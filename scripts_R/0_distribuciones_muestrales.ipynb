{
 "cells": [
  {
   "cell_type": "markdown",
   "metadata": {},
   "source": [
    "# Distribuciones de muestreo\n",
    "\n",
    "### Oscar Julian Layton \n",
    "---\n",
    "\n",
    "El grande objetivo de la inferencia es generar conclusiones sobre una población de estudio de tamaño N usando una muestra representativa de ésta.\n",
    "En la metodología tradicional es muy importante el supuesto de ser una **muestra aleatoria**. \n",
    "\n",
    "En otras palabras, se dice que las variables aleatorias $\\{ X_1, X_2, X_3,...,X_n \\}$ forman una muestra aleatoria simple de tamaño n si:\n",
    "\n",
    "* Las $X_i$ para $i=1,2,3,...,n$ son variables aleatorias independientes.\n",
    "* Cada $X_i$ para $i=1,2,3,..n$ tiene la misma distribución.\n",
    "\n",
    "Por lo general las condiciones anteriores pueden renombrarse al decir que las $X_i$ para $i=1,2,3,...,n$ son **iid** _(independientes idénticamente distribuidas)._"
   ]
  },
  {
   "cell_type": "markdown",
   "metadata": {},
   "source": [
    "En la inferencia Estadística se usan cantidades que son calculadas a partir de las observaciones de las muestras, esto implica caracterizar a un _estadístico - estadígrafo_ (Montgomery 2012, p27). \n",
    "\n",
    "Por ejemplo, dada  $\\{ y_1, y_2, y_3,...,y_n \\}$  una muestra, la **media muestral** estádeterminada por:\n",
    "\n",
    "$$\\overline{y}=\\frac{1}{n}\\sum_{i=1}^{n}y_i$$\n",
    "\n",
    "y la **varianza muestral**:\n",
    "\n",
    "$$\\overline{s}^2=\\frac{\\sum_{i=1}^{n}(y_i-\\overline{y})^2}{n-1}$$"
   ]
  },
  {
   "cell_type": "markdown",
   "metadata": {},
   "source": [
    "#### Propiedades de la media y varianza muestral."
   ]
  },
  {
   "cell_type": "markdown",
   "metadata": {},
   "source": [
    "Comúnmente se dice que la media muestral $\\overline{y}$ es un estimador puntual de la media poblacional $\\mu$, además la varianza muestral $s^2$ un estimador puntual de la varianza poblacional $\\sigma^2$. No obstante, un buen estimador puntual es:\n",
    "\n",
    "* **Insesgado**.\n",
    "* Debe ser de **mínima varianza** (se necesitan más detalles para demostrar)\n",
    "\n",
    "\n",
    "Si  $\\{ y_1, y_2, y_3,...,y_n \\}$ es una muestra aleatoria de una variable aleatoria con media $\\mu$ y varianza $\\sigma^2$, entonces:\n",
    "\n",
    "\\begin{equation}\n",
    "\\mathbb{E}\\left[\\overline{y}\\right]=\\mathbb{E}\\left[\\frac{y_{1}+y_{2}+\\ldots+y_{n}}{n}\\right]=\\frac{1}{n}\\sum_{i=1}^{n}\\mathbb{E}\\left[ y_i \\right] = \\frac{n\\mu}{n}=\\mu\n",
    "\\end{equation}\n",
    "\n",
    "\n",
    "\\begin{equation}\n",
    "\\mathbb{E}\\left[s^2\\right]= \\frac{1}{n-1} \\mathbb{E} \\left[\\sum_{i=1}^{n}( y_i - \\overline{y})^2 \\right] =  \\frac{1}{n-1} \\mathbb{E} \\left[\\sum_{i=1}^{n} y_i^2 - n\\overline{y}^2 \\right]= \\frac{(n-1)\\sigma^2}{n-1}=\\sigma^2\n",
    "\\end{equation}\n",
    "\n",
    "con lo que $\\overline{x}$ y $s^2$ son estimadores insesgados de $\\mu$ y $\\sigma^2$ respectivamente."
   ]
  },
  {
   "cell_type": "markdown",
   "metadata": {},
   "source": [
    "#### Ejemplo\n",
    "\n",
    "Suponga que realizaremos preguntas a algunas personas de la población del barrio Santa fe (de forma aleatoria), en tal encuesta se le pregunta a las personas cuanto mide.\n",
    "\n",
    "Se realizará una simulación de 200 varones mayores de edad:"
   ]
  },
  {
   "cell_type": "code",
   "execution_count": 2,
   "metadata": {},
   "outputs": [
    {
     "data": {
      "image/png": "[encoded data removed]",
      "text/plain": [
       "Plot with title \"200 estaturas de varones mayores de 18\""
      ]
     },
     "metadata": {},
     "output_type": "display_data"
    }
   ],
   "source": [
    "# Consideremos n =200 personas \n",
    "\n",
    "set.seed(1)\n",
    "n=200\n",
    "#simulacion de n datos que siguen una distribución normal de media 167.7  y desviación estándar 8.9 \n",
    "X1=rnorm(n, 167.7, 8.9) \n",
    "\n",
    "# dibujamos el histograma:\n",
    "hist(X1, probability = TRUE, col = 'lightblue', \n",
    "main=\"200 estaturas de varones mayores de 18\")\n",
    "\n",
    "# dibujamos los puntos:\n",
    "rug(X1)\n",
    "# dibujamos la estimación de la densidad:\n",
    "lines(density(X1), col=\"red\",lwd=2)"
   ]
  },
  {
   "cell_type": "code",
   "execution_count": 4,
   "metadata": {},
   "outputs": [
    {
     "data": {
      "text/html": [
       "168.016302842052"
      ],
      "text/latex": [
       "168.016302842052"
      ],
      "text/markdown": [
       "168.016302842052"
      ],
      "text/plain": [
       "[1] 168.0163"
      ]
     },
     "metadata": {},
     "output_type": "display_data"
    }
   ],
   "source": [
    "mean(X1)"
   ]
  },
  {
   "cell_type": "markdown",
   "metadata": {},
   "source": [
    "No obstante la media de las alturas en las 200 personas es de $\\overline{x}_1 =168.01$. hallando otra muestra de la población de estudio:"
   ]
  },
  {
   "cell_type": "code",
   "execution_count": 7,
   "metadata": {},
   "outputs": [
    {
     "data": {
      "text/html": [
       "167.35170525901"
      ],
      "text/latex": [
       "167.35170525901"
      ],
      "text/markdown": [
       "167.35170525901"
      ],
      "text/plain": [
       "[1] 167.3517"
      ]
     },
     "metadata": {},
     "output_type": "display_data"
    }
   ],
   "source": [
    "# Otras 200 personas \n",
    "n=100\n",
    "X2=rnorm(n, 167.7, 8.9)\n",
    "mean(X2)"
   ]
  },
  {
   "cell_type": "markdown",
   "metadata": {},
   "source": [
    "la media de las alturas en las 200 personas es de $\\overline{x}_2 =167.3$. Claramente $\\overline{x}_1$ y $\\overline{x}_2$ no deben coincidir pero son cercanas. Esto nos da razón de que la media muestral es una variable aleatoria.  \n",
    "\n",
    "Más adelante nos daremos cuenta que al experimentar con muchas muestras y calculamos sus medias junto con sus varianzas muestrales, tienden a un valor específivo.  "
   ]
  },
  {
   "cell_type": "markdown",
   "metadata": {},
   "source": [
    "---\n",
    "### Distribuión muestral de $\\overline{x}$\n",
    "\n",
    "Si analizamos las medias estadísticas de, por ejemplo, $r=100000$ muestras, podemos obtener también $r$ medias estadísticas correspondientes:\n",
    "\n",
    "\\begin{equation}\n",
    "X_{1},X_{2},\\ldots X_{r}\n",
    "\\end{equation}\n",
    "\n",
    "\\begin{equation}\n",
    "\\overline{x}_{1},\\overline{x}_{2},\\ldots\\overline{x}_{r},\n",
    "\\end{equation}\n",
    "\n",
    "lo cual nos permite estudiar la distribución de la media muestral $\\overline{x}$, que de hecho es muy importante conocer:\n",
    "\n",
    "* Que tan cerca está una media estadística $\\overline{x}_{a}$ de la media de la población $\\mu$. Esto nos lleva a la pregunta: ¿Cuál es el valor esperado de las medias? Al tomar la esperanza de la media: \n",
    "\n",
    "\\begin{equation}\n",
    "\\mu_{\\overline{x}}=\\mathbb{E}\\left[\\overline{x}\\right]=\\mathbb{E}\\left[\\frac{x_{1}+x_{2}+\\ldots+x_{n}}{n}\\right]\n",
    "\\end{equation}\n",
    "\n",
    "recordemos que cada uno de los $i=1\\ldots n$ observaciones dentro\n",
    "de la muestra $X$, es a su vez muestreada en $r$, observaciones,\n",
    "por lo que entonces podemos asegurar que:\n",
    "\n",
    "\\begin{equation}\n",
    "\\mathbb{E}\\left[x_{i}\\right]=\\mu\n",
    "\\end{equation}\n",
    "\n",
    " es por ello que entonces: \n",
    " \n",
    "\\begin{equation}\n",
    "\\mu_{\\overline{x}}=\\mathbb{E}\\left[\\frac{x_{1}+x_{2}+\\ldots+x_{n}}{n}\\right]=\\frac{1}{n}\\left(\\mathbb{E}\\left[x_{1}\\right]+\\mathbb{E}\\left[x_{2}\\right]+\\ldots+\\mathbb{E}\\left[x_{n}\\right]\\right)\n",
    "\\end{equation}\n",
    "\n",
    "\\begin{equation}\n",
    "\\Rightarrow\\mu_{\\overline{x}}=\\frac{1}{n}\\left(n\\mu\\right)=\\mu\n",
    "\\end{equation}\n",
    "\n",
    "con lo cual se demuestra que la esperanza de las $r$ muestras con $n$ observaciones, es la esperanza de la población $\\mu$. De forma\n",
    "similar, se sigue que para la varianza de las medias muestrales.\n",
    "\n",
    "\\begin{equation}\n",
    "\\sigma_{\\overline{x}}^{2}=\\textrm{Var}\\left[\\frac{x_{1}+x_{2}+\\ldots+x_{n}}{n}\\right]=\\frac{1}{n^{2}}\\left(\\textrm{Var}\\left[x_{1}\\right]+\\textrm{Var}\\left[x_{2}\\right]+\\ldots+\\textrm{Var}\\left[x_{n}\\right]\\right)\n",
    "\\end{equation}\n",
    "\n",
    "Loanterior puede realizarse siempre y cuando ${X_1, ... X_n}$ sea una muestra aleatoria.\n",
    "\\begin{equation}\n",
    "\\sigma_{\\overline{x}}^{2}=\\frac{1}{n^{2}}\\left(n\\sigma^{2}\\right)=\\frac{\\sigma^{2}}{n}\n",
    "\\end{equation}\n",
    "\n"
   ]
  },
  {
   "cell_type": "markdown",
   "metadata": {},
   "source": [
    "---"
   ]
  },
  {
   "cell_type": "markdown",
   "metadata": {},
   "source": [
    "## El teorema del límite central\n",
    "\n",
    "Sea $\\{ X_1, X_2, X_3,...,X_n \\}$ una muestra aleatoria de una distribución con media $\\mu$ y varianza $\\sigma^2$, para un **n** lo suficientemente grande, _$\\overline{X}$_ se distribuye aproximadamente normal con media $\\mu$ y varianza $\\frac{\\sigma^2}{n}$, e.o.p: \n",
    "\n",
    "$$\\overline{X} \\underset{n\\rightarrow \\infty }{\\sim} N(\\mu, \\sigma^2 /n) \\;\\;\\;\\;\\;\\; \\;\\;\\;\\;\\;\\; ; \\;\\;\\;\\;\\;\\; \\;\\;\\;\\;\\; \\frac{\\overline{X}- \\mu}{\\sqrt{\\sigma_x^2/n}} \\sim N(0,1)$$\n",
    "\n",
    "Tengase en cuenta que al decir muestra aleatoria se afirma que la sucecion de variables aleatorias son independientes igualmente distribuidas."
   ]
  },
  {
   "cell_type": "markdown",
   "metadata": {},
   "source": [
    "## Algunos resultados importantes\n",
    "\n",
    "Si $\\{ Z_1, Z_2,...,Z_k\\}$ son _variables aleatorias_ con distribución normal estándar $NID(0,1)$, entonces la variable aleatoria:\n",
    "\n",
    "$$X=Z^2_1 + Z^2_1 +...+Z^2_K    \\;\\;\\;\\;\\;\\; \\;\\;\\;\\;\\;\\; ; \\;\\;\\;\\;\\;\\; \\;\\;\\;\\;\\;  X \\sim \\chi^{2}_{(k)}$$\n",
    "\n"
   ]
  },
  {
   "cell_type": "markdown",
   "metadata": {},
   "source": [
    "## Algunos resultados importantes\n",
    "\n",
    "Si $\\{ y_1, y_2 ,..., y_n\\}$ es una _muestra aleatoria_ de distribución normal $N(\\mu,\\sigma^2)$, entonces la variable aleatoria:\n",
    "\n",
    "$$\\frac{ss}{\\sigma^2} = \\frac{\\sum_{i=1}^{n}(y_i - \\overline{y})^2}{\\sigma^2} \\;\\;  \\sim  \\;\\;  \\chi^{2}_{(n-1)}$$"
   ]
  },
  {
   "cell_type": "markdown",
   "metadata": {},
   "source": [
    "## Algunos resultados importantes\n",
    "\n",
    "Si $\\{ y_1, y_2 ,..., y_n\\}$ es una _muestra aleatoria_ de distribución  $N(\\mu,\\sigma^2)$, entonces la variable aleatoria:\n",
    "\n",
    "$$t=\\frac{\\overline{y}-\\mu}{s/\\sqrt{n}}   \\;\\;\\;\\;\\;\\;; \\;\\;\\;\\;\\;\\; t \\;  \\sim  \\;  t_{(n-1)}$$"
   ]
  },
  {
   "cell_type": "markdown",
   "metadata": {},
   "source": [
    "## Algunos resultados importantes\n",
    "\n",
    "Si $Z$ y **$\\chi^2_k$** son variables aleatorias _independientes_ normal estándar y Ji-cuadrada respectivamente, entonces:\n",
    "\n",
    "$$t_k=\\frac{Z}{\\sqrt{\\chi^2_k \\;/\\; k}}   \\;\\;\\;\\;\\;\\;; \\;\\;\\;\\;\\;\\; t_k \\;  \\sim  \\;  t_{(k)}$$"
   ]
  },
  {
   "cell_type": "markdown",
   "metadata": {},
   "source": [
    "## Algunos resultados importantes\n",
    "\n",
    "Si **$\\chi^2_u$** y **$\\chi^2_v$** son variables aleatorias Ji-cuadrada _independientes_ con grados de libertad $u$ y $v$ respectivamente, entonces:\n",
    "\n",
    "$$F_{u,v}=\\frac{\\chi^2_u \\;/\\; u}{\\chi^2_v \\;/\\; v}   \\;\\;\\;\\;\\;\\;; \\;\\;\\;\\;\\;\\; F_{u,v} \\;  \\sim  \\; F_{[u,v]}$$"
   ]
  },
  {
   "cell_type": "markdown",
   "metadata": {},
   "source": [
    "## Algunos resultados importantes\n",
    "\n",
    "Si **$t$** es una variable aleatoria tal que $t \\;  \\sim  \\; t_{v}$, entonces $t^2 \\sim F_{[1,v]}$"
   ]
  },
  {
   "cell_type": "markdown",
   "metadata": {},
   "source": [
    "---\n",
    "\n",
    "* Melo, O., López, L y Melo, S (2018). _\"Diseño de Experimentos-Métodos y Aplicaciones\"_. Universidad Nacional de Colombia.\n",
    "* Montgomery, D. (2012). _\"Desing and Analisys of Experiments\"_ John Wiley & Sons. Eight Edition. New York.\n",
    "---"
   ]
  },
  {
   "cell_type": "code",
   "execution_count": null,
   "metadata": {},
   "outputs": [],
   "source": []
  }
 ],
 "metadata": {
  "kernelspec": {
   "display_name": "R",
   "language": "R",
   "name": "ir"
  },
  "language_info": {
   "codemirror_mode": "r",
   "file_extension": ".r",
   "mimetype": "text/x-r-source",
   "name": "R",
   "pygments_lexer": "r",
   "version": "3.6.1"
  }
 },
 "nbformat": 4,
 "nbformat_minor": 4
}
