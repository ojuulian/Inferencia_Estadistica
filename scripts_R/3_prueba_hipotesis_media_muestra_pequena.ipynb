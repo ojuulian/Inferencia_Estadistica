{
 "cells": [
  {
   "cell_type": "markdown",
   "metadata": {},
   "source": [
    "<img src=\"./unal.png\" align=left width=\"150\" height=\"150\"></img>\n",
    "\n",
    "$\\;$\n",
    "---\n",
    "\n",
    "\n",
    "<h2 align=\"center\">PRUEBA DE MEDIA (para población normal, $\\sigma^2$ desconocida)\n",
    "\n",
    "    \n",
    "### Oscar Julian Layton \n",
    "---\n",
    "    \n",
    "$\\;$"
   ]
  },
  {
   "cell_type": "markdown",
   "metadata": {},
   "source": [
    "\n",
    "\n",
    "Para realizar una prueba de de media considerese una población normal:\n",
    "\n",
    "## Resultado importante\n",
    "\n",
    "<div class=\"alert alert-success\">\n",
    "\n",
    "Si $\\{ y_1, y_2 ,..., y_n\\}$ es una _muestra aleatoria_ de distribución  $N(\\mu,\\sigma^2)$, entonces la variable aleatoria:\n",
    "\n",
    "$$T=\\frac{\\overline{y}-\\mu}{s/\\sqrt{n}}   \\;\\;\\;\\;\\;\\;; \\;\\;\\;\\;\\;\\; T \\;  \\sim  \\;  t_{(n-1)}$$\n",
    "\n",
    "Tengase en cuenta que al decir muestra aleatoria se afirma que la sucecion de variables aleatorias son independientes igualmente distribuidas.\n",
    "</div>\n"
   ]
  },
  {
   "cell_type": "markdown",
   "metadata": {},
   "source": [
    "#### 1. Parámetro Poblacional\n",
    "\n",
    "El parámetro poblacional a contrastar es $\\mu$"
   ]
  },
  {
   "cell_type": "markdown",
   "metadata": {},
   "source": [
    "#### 2. Hipótesis\n",
    "\n",
    "Considérese la varianza poblacional $\\sigma^2$\n",
    "\n",
    "\n",
    "\\begin{equation}\n",
    "H_{0}: \\mu = \\mu_o \\hspace{0.9cm} vs \\hspace{0.9cm} H_{1}: \\mu  > \\mu_o\n",
    "\\end{equation}"
   ]
  },
  {
   "cell_type": "markdown",
   "metadata": {},
   "source": [
    "#### 3. Estadística de prueba\n",
    "\n",
    "Supóngase que $x_1, x_2, ,..., x_n$ es una muestra aleatoria de **X**, tal que $X \\sim N(\\mu, \\sigma^2)$, entonces:\n",
    "\n",
    "\\begin{equation}\n",
    "T = \\frac{\\overline{X}- \\mu}{s /\\sqrt{n}}\\hspace{0.4cm} \\hspace{1.2cm} ;  \\hspace{1.2cm} T \\mid _{H_0} \\sim  t_{(n-1)}\n",
    "\\end{equation}"
   ]
  },
  {
   "cell_type": "markdown",
   "metadata": {},
   "source": [
    "#### 4. Construcción regla de desición\n",
    "\n",
    "Para un $0<\\alpha<1$ nivel de significancia\n",
    "\n",
    "$$P_{\\mu_{o}}(Error\\; tipo \\; I)=\\alpha$$\n",
    "$$P_{\\mu_{o}}(Rechaz\\;H_o\\;cuando \\;es \\;verdadera)=\\alpha$$\n",
    "$$P_{\\mu_{o}}(T \\geq  t_{\\alpha(n-1)} \\; cuando \\; T \\sim  t_{(n-1)})=\\alpha$$\n",
    "\n",
    "En consecuencia:\n",
    "\n",
    "$$P_{\\mu_{o}}\\left (   \\frac{\\overline{X}_n- \\mu}{s/\\sqrt{n}}\\geq  t_{\\alpha(n-1)} \\right )=\\alpha$$"
   ]
  },
  {
   "cell_type": "markdown",
   "metadata": {},
   "source": [
    "#### 5. Regla de Desición\n"
   ]
  },
  {
   "cell_type": "markdown",
   "metadata": {},
   "source": [
    "<div class=\"alert alert-danger\">\n",
    "\n",
    "Para un $\\alpha$ de significancia se procede a:\n",
    "\n",
    "\\begin{equation}\n",
    "\\vartheta :  \\; \\;Rechazar \\; H_o  \\;\\;\\;\\; sii \\;\\; \\;\\; T \\geq  t_{\\alpha(n-1)}\n",
    "\\end{equation}\n",
    "</div>"
   ]
  },
  {
   "cell_type": "markdown",
   "metadata": {},
   "source": [
    "---\n",
    "\n",
    "\n",
    "Para la **potencia de la prueba** se usa el error tipo II\n",
    "\n",
    "$$\\beta(\\mu')=P(Error\\; tipo \\; II) $$\n",
    "\n",
    "$$\\beta(\\mu')= P(T <  t_{\\alpha(n-1)} \\; cuando \\; \\mu =\\mu^{´})$$\n",
    "\n",
    "\n",
    "$$\\beta(\\mu') = P(\\overline{X}_n < \\mu_o +  t_{\\alpha(n-1)}(s/\\sqrt{n}) \\;\\; con \\;\\; \\mu =\\mu^{´})$$\n",
    "\n",
    "$$\\beta(\\mu') =  \\left (   \\frac{\\overline{X}_n- \\mu^{´}}{s/\\sqrt{n}} <  t_{\\alpha(n-1)} + \\frac{\\mu_o- \\mu^{´}}{s/\\sqrt{n} } \\right )$$\n",
    "$$potencia = 1 - \\beta$$"
   ]
  },
  {
   "cell_type": "markdown",
   "metadata": {},
   "source": [
    "---\n",
    "## Ejemplo\n",
    "\n",
    "Se seleccionaron al azar sujetos de una población de varones saludables de 4-7 años de edad, considerando que el peso máximo está normalmente distribuido. ¿Sugieren los siguientes datos afirmar que el peso máximo de la población excede de 25kg?  \n",
    "\n",
    "$$25.8,\\;\\; 36.6,\\;\\; 26.3,\\;\\; 21.8,\\;\\; 27.2$$\n",
    "\n",
    "#### a) Hipótesis apropiadas sobre la media.\n",
    "\n",
    "En este caso interesa hacer inferencia con respecto a $\\mu$ peso máximo promedio de la población. En este orden de ideas la hipótesis a contrastar es:\n",
    "\n",
    "\\begin{equation}\n",
    "H_{0}: \\mu = 25 \\hspace{0.9cm} vs \\hspace{0.9cm} H_{1}: \\mu > 25\n",
    "\\end{equation}"
   ]
  },
  {
   "cell_type": "markdown",
   "metadata": {},
   "source": [
    "#### b) Uso de la estadística de prueba."
   ]
  },
  {
   "cell_type": "markdown",
   "metadata": {},
   "source": [
    "Tenemos entonces los siguientes datos: $n=5$, $\\bar{x}=0.2545$, se usa el estadístico de prueba: \n",
    "\n",
    "$$T=\\frac{\\overline{x}-\\mu}{s/\\sqrt{n}}   \\;\\;\\;\\;\\;\\;; \\;\\;\\;\\;\\;\\; T \\;  \\sim  \\;  t_{(n-1)}$$\n"
   ]
  },
  {
   "cell_type": "code",
   "execution_count": 2,
   "metadata": {},
   "outputs": [],
   "source": [
    "data <- c(25.8, 36.6, 26.3, 21.8, 27.2)"
   ]
  },
  {
   "cell_type": "code",
   "execution_count": 15,
   "metadata": {},
   "outputs": [
    {
     "data": {
      "text/html": [
       "1.03819724287002"
      ],
      "text/latex": [
       "1.03819724287002"
      ],
      "text/markdown": [
       "1.03819724287002"
      ],
      "text/plain": [
       "[1] 1.038197"
      ]
     },
     "metadata": {},
     "output_type": "display_data"
    }
   ],
   "source": [
    "mu<-25\n",
    "T <- (mean(data)-mu)*sqrt(length(data))/sd(data)  ; T"
   ]
  },
  {
   "cell_type": "markdown",
   "metadata": {},
   "source": [
    "De esta forma, para la información disponible tenemos que: \n",
    "\n",
    "$$T=\\frac{\\sqrt[]{n}(\\bar{x}-\\mu_{0})}{s}=\\frac{\\sqrt[]{5}(27.54-25)}{5.47}=1.038$$\n",
    "\n",
    "Luego se tiene:"
   ]
  },
  {
   "cell_type": "code",
   "execution_count": 16,
   "metadata": {},
   "outputs": [
    {
     "data": {
      "text/html": [
       "2.13184678632665"
      ],
      "text/latex": [
       "2.13184678632665"
      ],
      "text/markdown": [
       "2.13184678632665"
      ],
      "text/plain": [
       "[1] 2.131847"
      ]
     },
     "metadata": {},
     "output_type": "display_data"
    }
   ],
   "source": [
    "##########################  cuantil distribucion t ################################################################\n",
    "######     distribución t     qt(p, df, ncp, lower.tail = TRUE, log.p = FALSE)  #si es central npc=0  #############  \n",
    "###################################################################################################################\n",
    "\n",
    "alpha=0.05\n",
    "df=length(data)-1    #por ser dos muestras \n",
    "\n",
    "qt(alpha,df, 0, lower.tail = FALSE)   #alpha/2 para prueba dos colas,    # lower.tail=TRUE ent P[X <= x]"
   ]
  },
  {
   "cell_type": "markdown",
   "metadata": {},
   "source": [
    "$$t_{\\alpha(n-1)} = t_{0.05(5-1)} =2.13$$"
   ]
  },
  {
   "cell_type": "markdown",
   "metadata": {},
   "source": [
    "#### c) Desición\n",
    "\n",
    " $ \\vartheta :$ Luego como $T= 0.102$, se tiene que a un nivel de significancia de $ \\alpha= 0.05 $, $\\;\\;$ $T= 1.038 < t_{[0.05\\;,\\;4]}=2.13 $ con lo cual se concluye que NO hay evidencia estadísticamente significativa para rechazar la hipotesis nula, luego no puede aceptarse la afirmación de que el peso de los varones de 4-7 años execda los 25kg (cuanto mucho será 25kg). esto tambien se evidencia en el p_valor (el cual es muy grande):"
   ]
  },
  {
   "cell_type": "code",
   "execution_count": 10,
   "metadata": {},
   "outputs": [
    {
     "data": {
      "text/html": [
       "0.178906737215029"
      ],
      "text/latex": [
       "0.178906737215029"
      ],
      "text/markdown": [
       "0.178906737215029"
      ],
      "text/plain": [
       "[1] 0.1789067"
      ]
     },
     "metadata": {},
     "output_type": "display_data"
    }
   ],
   "source": [
    "pt(T,df, 0, lower.tail = FALSE)   #alpha/2 para prueba dos colas,    # lower.tail=TRUE ent P[X <= x]"
   ]
  },
  {
   "cell_type": "markdown",
   "metadata": {},
   "source": [
    "---\n",
    "#### d) Prueba en R junto con intervalo de confianza"
   ]
  },
  {
   "cell_type": "code",
   "execution_count": 13,
   "metadata": {},
   "outputs": [
    {
     "data": {
      "text/plain": [
       "\n",
       "\tOne Sample t-test\n",
       "\n",
       "data:  data\n",
       "t = 1.0382, df = 4, p-value = 0.1789\n",
       "alternative hypothesis: true mean is greater than 25\n",
       "95 percent confidence interval:\n",
       " 22.32433      Inf\n",
       "sample estimates:\n",
       "mean of x \n",
       "    27.54 \n"
      ]
     },
     "metadata": {},
     "output_type": "display_data"
    }
   ],
   "source": [
    "t.test(x = data,  alternative = \"greater\",  mu = 25, conf.level  = 0.95)  \n",
    "#alternative=\"greater\" or \"less\" or two.sided"
   ]
  }
 ],
 "metadata": {
  "kernelspec": {
   "display_name": "R",
   "language": "R",
   "name": "ir"
  },
  "language_info": {
   "codemirror_mode": "r",
   "file_extension": ".r",
   "mimetype": "text/x-r-source",
   "name": "R",
   "pygments_lexer": "r",
   "version": "3.6.1"
  }
 },
 "nbformat": 4,
 "nbformat_minor": 4
}
