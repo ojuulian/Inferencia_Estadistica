{
 "cells": [
  {
   "cell_type": "markdown",
   "metadata": {},
   "source": [
    "<img src=\"./unal.png\" align=left width=\"150\" height=\"150\"></img>\n",
    "\n",
    "$\\;$\n",
    "---\n",
    "\n",
    "\n",
    "<h2 align=\"center\">PRUEBA DE MEDIAS (Poblaciones Normales)\n",
    "    <h3 align=\"center\">\"prueba dos poblaciones\"\n",
    "\n",
    "    \n",
    "### Oscar Julian Layton \n",
    "---\n",
    "    \n",
    "$\\;$"
   ]
  },
  {
   "cell_type": "markdown",
   "metadata": {},
   "source": [
    "\n",
    "\n",
    "Para realizar una prueba de de media para dos muestras se tiene:\n",
    "\n",
    "## Inferencia de medias para dos muestras\n",
    "\n",
    "Considerese:\n",
    "\n",
    "* $X_{11}, X_{12}, X_{13},...,X_{1 n_1}$ una _muestra aleatoria_ de una población distribuida Normal con media $\\mu_1$ y varianza $\\sigma^2_1$.\n",
    "* $X_{21}, X_{22}, X_{23},...,X_{2 n_1}$ una _muestra aleatoria_ de una población distribuida Normal con media $\\mu_2$ y varianza $\\sigma^2_2$.\n",
    "* Las muestras anteriores son independientes entre si.\n",
    "\n",
    "$$E[\\overline{X}_1 - \\overline{X}_2 ]= E[\\overline{X}_1] - E[\\overline{X}_2] = \\mu_1 - \\mu_2$$\n",
    "\n",
    "Ahora considerando que las muestras son independientes  :\n",
    "\n",
    "$$V(\\overline{X}_1 - \\overline{X}_2 )=V(\\overline{X}_1 ) + V(\\overline{X}_2 ) = \\frac{\\sigma^2_1}{ n_1}  +  \\frac{\\sigma^2_2}{ n_2} $$\n",
    "\n",
    "Como las distribuciones poblacionales son Normales, tanto $\\overline{X}_1$ como $\\overline{X}_2$ son normales, por lo tanto $ \\overline{X}_1 - \\overline{X}_2 $ es Normal, luego:\n",
    "\n",
    "\n",
    "$$ \\overline{X}_1 - \\overline{X}_2  \\;\\; \\sim \\;\\; N \\left ( \\mu_1 - \\mu_2 , \\sqrt{\\frac{S^2_1}{ n_1}  +  \\frac{S^2_2}{ n_2}} \\right ) $$\n",
    "\n",
    "En consecuencia:"
   ]
  },
  {
   "cell_type": "markdown",
   "metadata": {},
   "source": [
    "\n",
    "<div class=\"alert alert-success\">\n",
    "\n",
    "Cuando las distribuciones poblacionales de las dospoblaciones son Normales, la variable estandarizada\n",
    "\n",
    "\n",
    "\\begin{equation}\n",
    "T=\\frac{(\\overline{X}_1-\\overline{X}_2)-\\Delta_o }{\\sqrt{\\frac{S^2_1}{ n_1}  +  \\frac{S^2_2}{ n_2}}}\\hspace{0.4cm} \\hspace{0.4cm}  \\hspace{1.2cm} ;  \\hspace{1.2cm} T \\mid _{H_0} \\sim t_{(v)}\n",
    "\\end{equation}\n",
    "\n",
    "con:\n",
    "    \n",
    "\\begin{equation}\n",
    "v=\\frac{  \\left (  \\frac{S^2_1}{ n_1}  +  \\frac{S^2_2}{ n_2}   \\right )^2  }{   \\frac{(s_1^2/n_1)^2}{n_1 -1}   +    \\frac{(s_2^2/n_2)^2}{n_2 -1}  }\n",
    "\\end{equation}\n",
    "    \n",
    "    \n",
    "$v$ son los rgados de libertad, además se aproxima al entero más cercano hacia abajo.\n",
    "</div>\n"
   ]
  },
  {
   "cell_type": "markdown",
   "metadata": {},
   "source": [
    "#### 1. Parámetro Poblacional\n",
    "\n",
    "El parámetro poblacional a contrastar es $\\mu_1 = \\mu_2$ \"Igualdad de medias poblacionales\""
   ]
  },
  {
   "cell_type": "markdown",
   "metadata": {},
   "source": [
    "#### 2. Hipótesis\n",
    "\n",
    "Considérese las medias poblacionales $\\mu_1$ y $\\mu_2$\n",
    "\n",
    "\n",
    "\\begin{equation}\n",
    "H_{0}: \\mu_1 - \\mu_2 = \\Delta_o \\hspace{0.9cm} vs \\hspace{0.9cm} H_{1}: \\mu_1 - \\mu_2 > \\Delta_o\n",
    "\\end{equation}"
   ]
  },
  {
   "cell_type": "markdown",
   "metadata": {},
   "source": [
    "#### 3. Estadística de prueba\n",
    "\n",
    "$\\;$\n",
    "\n",
    "\\begin{equation}\n",
    "T=\\frac{(\\overline{X}_1-\\overline{X}_2)-\\Delta_o }{\\sqrt{\\frac{S^2_1}{ n_1}  +  \\frac{S^2_2}{ n_2}}}\\hspace{0.4cm} \\hspace{0.4cm}  \\hspace{1.2cm} ;  \\hspace{1.2cm} T \\mid _{H_0} \\sim t_{(v)}\n",
    "\\end{equation}\n",
    "\n",
    "con:\n",
    "    \n",
    "\\begin{equation}\n",
    "v=\\frac{  \\left (  \\frac{S^2_1}{ n_1}  +  \\frac{S^2_2}{ n_2}   \\right )^2  }{   \\frac{(s_1^2/n_1)^2}{n_1 -1}   +    \\frac{(s_2^2/n_2)^2}{n_2 -1}  }\n",
    "\\end{equation}"
   ]
  },
  {
   "cell_type": "markdown",
   "metadata": {},
   "source": [
    "#### 4. Construcción regla de desición\n",
    "\n",
    "Para un $0<\\alpha<1$ nivel de significancia\n",
    "\n",
    "$$P_{\\Delta_{o}}(Error\\; tipo \\; I)=\\alpha$$\n",
    "$$P_{\\Delta_{o}}(Rechaz\\;H_o\\;cuando \\;es \\;verdadera)=\\alpha$$\n",
    "$$P_{\\Delta_{o}}(T \\geq t_{(\\alpha \\;,\\;v  )} \\; cuando \\; T \\sim t_{(v)}) =\\alpha $$\n",
    "\n",
    "En consecuencia:\n",
    "\n",
    "$$P_{\\Delta_{o}}\\left (   \\frac{(\\overline{X}_1-\\overline{X}_2)-\\Delta_o }{\\sqrt{\\frac{S^2_1}{ n_1}  +  \\frac{S^2_2}{ n_2}}}\\geq t_{(\\alpha \\;,\\; v)}   \\right )=\\alpha$$"
   ]
  },
  {
   "cell_type": "markdown",
   "metadata": {},
   "source": [
    "#### 5. Regla de Desición\n"
   ]
  },
  {
   "cell_type": "markdown",
   "metadata": {},
   "source": [
    "<div class=\"alert alert-danger\">\n",
    "\n",
    "Para un $\\alpha$ de significancia se procede a:\n",
    "\n",
    "\\begin{equation}\n",
    "\\vartheta :  \\; \\;Rechazar \\; H_o  \\;\\;\\;\\; sii \\;\\; \\;\\; T \\geq t_{(\\alpha \\;,\\; v)}\n",
    "\\end{equation}\n",
    "</div>"
   ]
  },
  {
   "cell_type": "markdown",
   "metadata": {},
   "source": [
    "---\n",
    "\n",
    "Para la **potencia de la prueba** se usa el error tipo II\n",
    "\n",
    "$$\\beta(\\mu')=P(Error\\; tipo \\; II) $$\n",
    "\n",
    "$$\\beta(\\mu')= P(T < t_{(\\alpha \\;,\\; v)} \\;\\; cuando \\; \\;\\mu_1 - \\mu_2 =\\Delta^{´})$$\n",
    "\n",
    "\n",
    "$$\\beta(\\mu') = P \\left (   \\overline{X}_1 -\\overline{X}_2  < \\Delta_o + t_{(\\alpha \\;,\\; v)}(\\sqrt{\\frac{S^2_1}{ n_1}  +  \\frac{S^2_2}{ n_2}}) \\;\\; con \\;\\; \\mu_1 - \\mu_2 =\\Delta^{´}   \\right )$$\n",
    "\n",
    "$$\\beta(\\mu') =  \\left (    \\frac{(\\overline{X}_1-\\overline{X}_2)-\\Delta^{´} }{\\sqrt{\\frac{S^2_1}{ n_1}  +  \\frac{S^2_2}{ n_2}}} < t_{(\\alpha \\;,\\; v)} + \\frac{\\Delta_o- \\Delta^{´}}{\\sqrt{\\frac{S^2_1}{ n_1}  +  \\frac{S^2_2}{ n_2}} } \\right )$$\n",
    "$$potencia = 1 - \\beta$$"
   ]
  },
  {
   "cell_type": "markdown",
   "metadata": {},
   "source": [
    "----\n",
    "## Ejemplo (Prueba cola izquierda)\n",
    "\n",
    "La empresa de calzado Bogotá aplica en su proceso de manufactura un repelente al agua **(A)** en sus botas, se creo un nuevo aislamiento al agua **(B)** el cual se asegura que tiene mayores efectos en repeler el agua en las botas. Conociendo que la medicion se le conoce resistencia al agua. Se realizó el experimento de analizar 10 botas con el repelente standar y 8 botas con el repelente nuevo (B). Investiguese si la resistencia al agua promedio del repelente nuevo (B) es mejor. "
   ]
  },
  {
   "cell_type": "code",
   "execution_count": 10,
   "metadata": {},
   "outputs": [],
   "source": [
    "a<-c(2748,2700,2655,2822,2511,3149,3257,3213,3220,2753)\n",
    "b<-c(3027,3356,3359,3297,3125,2910,2889,2902)"
   ]
  },
  {
   "cell_type": "code",
   "execution_count": 11,
   "metadata": {},
   "outputs": [
    {
     "data": {
      "image/png": "[encoded data removed]",
      "text/plain": [
       "Plot with title \"Normal Q-Q Plot (para b)\""
      ]
     },
     "metadata": {},
     "output_type": "display_data"
    }
   ],
   "source": [
    "# Gráfico qqplot para identificar normalidad #\n",
    "\n",
    "par(mfrow=c(1,2))\n",
    "qqnorm(a, main=\"Normal Q-Q Plot (para a)\")\n",
    "qqline(a)\n",
    "\n",
    "qqnorm(b, main=\"Normal Q-Q Plot (para b)\")\n",
    "qqline(b)"
   ]
  },
  {
   "cell_type": "code",
   "execution_count": 12,
   "metadata": {},
   "outputs": [
    {
     "data": {
      "text/plain": [
       "\n",
       "\tShapiro-Wilk normality test\n",
       "\n",
       "data:  a\n",
       "W = 0.86995, p-value = 0.09984\n"
      ]
     },
     "metadata": {},
     "output_type": "display_data"
    },
    {
     "data": {
      "text/plain": [
       "\n",
       "\tShapiro-Wilk normality test\n",
       "\n",
       "data:  b\n",
       "W = 0.847, p-value = 0.08881\n"
      ]
     },
     "metadata": {},
     "output_type": "display_data"
    }
   ],
   "source": [
    "# Prueba parámetrica de normalidad #\n",
    "shapiro.test(a)\n",
    "shapiro.test(b)"
   ]
  },
  {
   "cell_type": "markdown",
   "metadata": {},
   "source": [
    "Para un nivel de significancia del 5% se logra probar que en realidad las dos poblaciones son normales."
   ]
  },
  {
   "cell_type": "code",
   "execution_count": 14,
   "metadata": {},
   "outputs": [
    {
     "data": {
      "image/png": "[encoded data removed]",
      "text/plain": [
       "plot without title"
      ]
     },
     "metadata": {},
     "output_type": "display_data"
    }
   ],
   "source": [
    "boxplot(a,b,)"
   ]
  },
  {
   "cell_type": "markdown",
   "metadata": {},
   "source": [
    "Se logra observar a simple vista que las medias de las dos poblaciones difieren "
   ]
  },
  {
   "cell_type": "markdown",
   "metadata": {},
   "source": [
    "#### 1. Parámetro Poblacional\n",
    "\n",
    "El parámetro poblacional a contrastar es $\\mu_1 < \\mu_2$ "
   ]
  },
  {
   "cell_type": "markdown",
   "metadata": {},
   "source": [
    "\n",
    "#### 2. Hipótesis\n",
    "\n",
    "Considérese las medias poblacionales $\\mu_1$  $\\mu_2$, con $\\Delta_o =0$ \n",
    "\n",
    "\\begin{equation}\n",
    "H_{0}: \\mu_1 - \\mu_2 = \\Delta_o \\hspace{0.9cm} vs \\hspace{0.9cm} H_{1}: \\mu_1 - \\mu_2 < \\Delta_o\n",
    "\\end{equation}\n"
   ]
  },
  {
   "cell_type": "markdown",
   "metadata": {},
   "source": [
    "#### 3. Estadística de prueba"
   ]
  },
  {
   "cell_type": "markdown",
   "metadata": {},
   "source": [
    "\n",
    "Cuando las distribuciones poblacionales de las dospoblaciones son Normales, la variable estandarizada\n",
    "\n",
    "\n",
    "\\begin{equation}\n",
    "T=\\frac{(\\overline{X}_1-\\overline{X}_2)-\\Delta_o }{\\sqrt{\\frac{S^2_1}{ n_1}  +  \\frac{S^2_2}{ n_2}}}\\hspace{0.4cm} \\hspace{0.4cm}  \\hspace{1.2cm} ;  \\hspace{1.2cm} T \\mid _{H_0} \\sim t_{(v)}\n",
    "\\end{equation}\n",
    "\n",
    "con $v$ son los rgados de libertad, además se aproxima al entero más cercano hacia abajo.\n",
    "\n",
    "\\begin{equation}\n",
    "v=\\frac{  \\left (  \\frac{S^2_1}{ n_1}  +  \\frac{S^2_2}{ n_2}   \\right )^2  }{   \\frac{(s_1^2/n_1)^2}{n_1 -1}   +    \\frac{(s_2^2/n_2)^2}{n_2 -1}  } = 17.9\n",
    "\\end{equation}\n",
    "    \n",
    "\n",
    "Verificando el resultado:"
   ]
  },
  {
   "cell_type": "code",
   "execution_count": 25,
   "metadata": {},
   "outputs": [
    {
     "data": {
      "text/html": [
       "17.9035988353493"
      ],
      "text/latex": [
       "17.9035988353493"
      ],
      "text/markdown": [
       "17.9035988353493"
      ],
      "text/plain": [
       "[1] 17.9036"
      ]
     },
     "metadata": {},
     "output_type": "display_data"
    }
   ],
   "source": [
    "n1 <-length(a)\n",
    "n2 <-length(b)\n",
    "\n",
    "v <- (  (var(a)/n1 + var(b)/n2 )^2 )/(   ( (var(a)/n1)^2/n1-1 )  +  ( (var(b)/n2)^2/n2-1 )   ); v"
   ]
  },
  {
   "cell_type": "code",
   "execution_count": 26,
   "metadata": {},
   "outputs": [
    {
     "data": {
      "text/html": [
       "-1.80183167548272"
      ],
      "text/latex": [
       "-1.80183167548272"
      ],
      "text/markdown": [
       "-1.80183167548272"
      ],
      "text/plain": [
       "[1] -1.801832"
      ]
     },
     "metadata": {},
     "output_type": "display_data"
    }
   ],
   "source": [
    "T<-(mean(a)-mean(b))/(sqrt(var(a)/n1 + var(b)/n2 ))  ; T"
   ]
  },
  {
   "cell_type": "markdown",
   "metadata": {},
   "source": [
    "Buscando el cuantil teórico:"
   ]
  },
  {
   "cell_type": "code",
   "execution_count": 30,
   "metadata": {},
   "outputs": [
    {
     "data": {
      "text/html": [
       "-1.73960672607507"
      ],
      "text/latex": [
       "-1.73960672607507"
      ],
      "text/markdown": [
       "-1.73960672607507"
      ],
      "text/plain": [
       "[1] -1.739607"
      ]
     },
     "metadata": {},
     "output_type": "display_data"
    }
   ],
   "source": [
    "##########################  cuantil distribucion t ################################################################\n",
    "######     distribución t     qt(p, df, ncp, lower.tail = TRUE, log.p = FALSE)  #si es central npc=0  #############  \n",
    "###################################################################################################################\n",
    "\n",
    "alpha=0.05\n",
    "df=17    #aproximando losgrados de libertar por debajo\n",
    "\n",
    "qt(alpha ,df, 0, lower.tail = TRUE)  #alpha/2 para prueba dos colas,    # lower.tail=TRUE ent P[X <= x]"
   ]
  },
  {
   "cell_type": "markdown",
   "metadata": {},
   "source": [
    "#### c) Desición\n",
    "\n",
    " $ \\vartheta :$ Luego como $T= -1.8$, se tiene que a un nivel de significancia de $ \\alpha= 0.05 $, $\\;\\;$ $T= -1.8 < t_{[17\\;,\\;0.05]}=-1.73 $ con lo cual se Rechaza $H_o$ concluyendose que existe evidencia estadísticamente para poder afirmar que en efecto  el uso del nuevo repelente (B) genera una resistencia al agua mayor que usar el repelente (A)."
   ]
  },
  {
   "cell_type": "markdown",
   "metadata": {},
   "source": [
    "Tambien se puede afirmar lo anterior con el p_valor (el cual es pequeño):"
   ]
  },
  {
   "cell_type": "code",
   "execution_count": 32,
   "metadata": {},
   "outputs": [
    {
     "data": {
      "text/html": [
       "0.0446664924503763"
      ],
      "text/latex": [
       "0.0446664924503763"
      ],
      "text/markdown": [
       "0.0446664924503763"
      ],
      "text/plain": [
       "[1] 0.04466649"
      ]
     },
     "metadata": {},
     "output_type": "display_data"
    }
   ],
   "source": [
    "pt(T, df, 0, lower.tail =TRUE)   #lower.tail=TRUE ent P[X <= x]"
   ]
  },
  {
   "cell_type": "markdown",
   "metadata": {},
   "source": [
    "---\n",
    "#### d) Prueba en R junto con intervalos de confianza"
   ]
  },
  {
   "cell_type": "code",
   "execution_count": 33,
   "metadata": {},
   "outputs": [
    {
     "data": {
      "text/plain": [
       "\n",
       "\tTwo Sample t-test\n",
       "\n",
       "data:  a and b\n",
       "t = -1.7414, df = 16, p-value = 0.0504\n",
       "alternative hypothesis: true difference in means is less than 0\n",
       "95 percent confidence interval:\n",
       "      -Inf 0.5237307\n",
       "sample estimates:\n",
       "mean of x mean of y \n",
       " 2902.800  3108.125 \n"
      ]
     },
     "metadata": {},
     "output_type": "display_data"
    }
   ],
   "source": [
    "t.test(\n",
    "  x           = a,\n",
    "  y           = b,\n",
    "  alternative = \"less\",\n",
    "  mu          = 0,\n",
    "  var.equal   = TRUE,\n",
    "  conf.level  = 0.95\n",
    ")    #alternative=\"greater\"   or   \"less\"     or   \"two.sided\"  "
   ]
  },
  {
   "cell_type": "code",
   "execution_count": null,
   "metadata": {},
   "outputs": [],
   "source": []
  }
 ],
 "metadata": {
  "kernelspec": {
   "display_name": "R",
   "language": "R",
   "name": "ir"
  },
  "language_info": {
   "codemirror_mode": "r",
   "file_extension": ".r",
   "mimetype": "text/x-r-source",
   "name": "R",
   "pygments_lexer": "r",
   "version": "3.6.1"
  }
 },
 "nbformat": 4,
 "nbformat_minor": 4
}
