{
 "cells": [
  {
   "cell_type": "markdown",
   "metadata": {},
   "source": [
    "<img src=\"./unal.png\" align=left width=\"150\" height=\"150\"></img>\n",
    "\n",
    "$\\;$\n",
    "---\n",
    "\n",
    "\n",
    "<h2 align=\"center\">PRUEBA DE MEDIA (para n grande, $\\sigma^2$ desconocido)\n",
    "    <h3 align=\"center\">\"prueba aproximada\"\n",
    "\n",
    "    \n",
    "### Oscar Julian Layton \n",
    "---\n",
    "    \n",
    "$\\;$"
   ]
  },
  {
   "cell_type": "markdown",
   "metadata": {},
   "source": [
    "\n",
    "\n",
    "Para realizar una prueba de de media considerese el siguiente teorema para **n grande** (sin importar distribución):\n",
    "\n",
    "## El teorema del límite central\n",
    "\n",
    "<div class=\"alert alert-success\">\n",
    "\n",
    "Sea $\\{ X_1, X_2, X_3,...,X_n \\}$ una muestra aleatoria de una distribución **X** con media $\\mu$ y varianza $\\sigma^2$, para un **n** lo suficientemente grande, _$\\overline{X}$_ se distribuye _**aproximadamente**_ normal con media $\\mu$ y varianza $\\frac{\\sigma^2}{n}$, e.o.p: \n",
    "\n",
    "$$\\overline{X} \\underset{n\\rightarrow \\infty }{\\sim} N(\\mu, \\sigma^2 /n) \\;\\;\\;\\;\\;\\; \\;\\;\\;\\;\\;\\; ; \\;\\;\\;\\;\\;\\; \\;\\;\\;\\;\\; \\frac{\\overline{X}- \\mu}{\\sqrt{\\sigma_x^2/n}} \\sim N(0,1)$$\n",
    "\n",
    "Tengase en cuenta que al decir muestra aleatoria se afirma que la sucecion de variables aleatorias son independientes igualmente distribuidas.\n",
    "</div>\n"
   ]
  },
  {
   "cell_type": "markdown",
   "metadata": {},
   "source": [
    "#### 1. Parámetro Poblacional\n",
    "\n",
    "El parámetro poblacional a contrastar es $\\mu$"
   ]
  },
  {
   "cell_type": "markdown",
   "metadata": {},
   "source": [
    "#### 2. Hipótesis\n",
    "\n",
    "Considérese la varianza poblacional $\\sigma^2$\n",
    "\n",
    "\n",
    "\\begin{equation}\n",
    "H_{0}: \\mu = \\mu_o \\hspace{0.9cm} vs \\hspace{0.9cm} H_{1}: \\mu  < \\mu_o\n",
    "\\end{equation}"
   ]
  },
  {
   "cell_type": "markdown",
   "metadata": {},
   "source": [
    "#### 3. Estadística de prueba\n",
    "\n",
    "Supóngase que $x_1, x_2, ,..., x_n$ es una muestra aleatoria de **X**, entonces por el TCL (Teorema Central del Límite):\n",
    "\n",
    "\\begin{equation}\n",
    "\\frac{\\overline{X}_n- \\mu}{\\sqrt{\\sigma_x^2/n}}\\hspace{0.4cm} \\xrightarrow[n\\rightarrow \\infty ]{D}\\hspace{0.4cm} Z_{c} \\hspace{1.2cm} ;  \\hspace{1.2cm} Z_{c} \\mid _{H_0} \\sim N(0,1)\n",
    "\\end{equation}"
   ]
  },
  {
   "cell_type": "markdown",
   "metadata": {},
   "source": [
    "#### 4. Construcción regla de desición\n",
    "\n",
    "Para un $0<\\alpha<1$ nivel de significancia\n",
    "\n",
    "$$P_{\\mu_{o}}(Error\\; tipo \\; I)=\\alpha$$\n",
    "$$P_{\\mu_{o}}(Rechaz\\;H_o\\;cuando \\;es \\;verdadera)=\\alpha$$\n",
    "$$P_{\\mu_{o}}(Z_c < Z_{(1-\\alpha)} \\; cuando \\; Z_c \\sim N(0,1))=\\alpha$$\n",
    "\n",
    "En consecuencia:\n",
    "\n",
    "$$P_{\\mu_{o}}\\left (   \\frac{\\overline{X}_n- \\mu}{\\sqrt{\\sigma_x^2/n}}< Z_{1-\\alpha} \\right )=\\alpha$$"
   ]
  },
  {
   "cell_type": "markdown",
   "metadata": {},
   "source": [
    "#### 5. Regla de Desición\n"
   ]
  },
  {
   "cell_type": "markdown",
   "metadata": {},
   "source": [
    "<div class=\"alert alert-danger\">\n",
    "\n",
    "Para un $\\alpha$ de significancia se procede a:\n",
    "\n",
    "\\begin{equation}\n",
    "\\vartheta :  \\; \\;Rechazar \\; H_o  \\;\\;\\;\\; sii \\;\\; \\;\\; Z_{c} < Z_{(1-\\alpha)}\n",
    "\\end{equation}\n",
    "</div>"
   ]
  },
  {
   "cell_type": "markdown",
   "metadata": {},
   "source": [
    "---\n",
    "\n",
    "\n",
    "Para la **potencia de la prueba** se usa el error tipo II\n",
    "\n",
    "$$\\beta(\\mu')=P(Error\\; tipo \\; II) $$\n",
    "\n",
    "$$\\beta(\\mu')= P(Z_c > Z_{(1-\\alpha)} \\; cuando \\; \\mu =\\mu^{´})$$\n",
    "\n",
    "\n",
    "$$\\beta(\\mu') = P(\\overline{X}_n > \\mu_o + Z_{(1-\\alpha)}(\\sigma^2/\\sqrt{n}) \\;\\; con \\;\\; \\mu =\\mu^{´})$$\n",
    "\n",
    "$$\\beta(\\mu') =  \\left (   \\frac{\\overline{X}_n- \\mu^{´}}{\\sigma/\\sqrt{n}} > Z_{(1-\\alpha)} + \\frac{\\mu_o- \\mu^{´}}{\\sigma/\\sqrt{n} } \\right )$$\n",
    "$$potencia = 1 - \\beta$$"
   ]
  },
  {
   "cell_type": "markdown",
   "metadata": {},
   "source": [
    "---\n",
    "## Ejemplo\n",
    "\n",
    "Considerese el datset **births** del paquete openintro el cual contiene información sobre 150 nacimientos junto con información de las madres. Se quiere determinar si el peso de los niños es menor que 9kg.\n"
   ]
  },
  {
   "cell_type": "code",
   "execution_count": 11,
   "metadata": {},
   "outputs": [
    {
     "data": {
      "text/html": [
       "<table>\n",
       "<thead><tr><th scope=col>f_age</th><th scope=col>m_age</th><th scope=col>weeks</th><th scope=col>premature</th><th scope=col>visits</th><th scope=col>gained</th><th scope=col>weight</th><th scope=col>sex_baby</th><th scope=col>smoke</th></tr></thead>\n",
       "<tbody>\n",
       "\t<tr><td>31       </td><td>30       </td><td>39       </td><td>full term</td><td>13       </td><td> 1       </td><td>6.88     </td><td>male     </td><td>smoker   </td></tr>\n",
       "\t<tr><td>34       </td><td>36       </td><td>39       </td><td>full term</td><td> 5       </td><td>35       </td><td>7.69     </td><td>male     </td><td>nonsmoker</td></tr>\n",
       "\t<tr><td>36       </td><td>35       </td><td>40       </td><td>full term</td><td>12       </td><td>29       </td><td>8.88     </td><td>male     </td><td>nonsmoker</td></tr>\n",
       "\t<tr><td>41       </td><td>40       </td><td>40       </td><td>full term</td><td>13       </td><td>30       </td><td>9.00     </td><td>female   </td><td>nonsmoker</td></tr>\n",
       "</tbody>\n",
       "</table>\n"
      ],
      "text/latex": [
       "\\begin{tabular}{r|lllllllll}\n",
       " f\\_age & m\\_age & weeks & premature & visits & gained & weight & sex\\_baby & smoke\\\\\n",
       "\\hline\n",
       "\t 31        & 30        & 39        & full term & 13        &  1        & 6.88      & male      & smoker   \\\\\n",
       "\t 34        & 36        & 39        & full term &  5        & 35        & 7.69      & male      & nonsmoker\\\\\n",
       "\t 36        & 35        & 40        & full term & 12        & 29        & 8.88      & male      & nonsmoker\\\\\n",
       "\t 41        & 40        & 40        & full term & 13        & 30        & 9.00      & female    & nonsmoker\\\\\n",
       "\\end{tabular}\n"
      ],
      "text/markdown": [
       "\n",
       "| f_age | m_age | weeks | premature | visits | gained | weight | sex_baby | smoke |\n",
       "|---|---|---|---|---|---|---|---|---|\n",
       "| 31        | 30        | 39        | full term | 13        |  1        | 6.88      | male      | smoker    |\n",
       "| 34        | 36        | 39        | full term |  5        | 35        | 7.69      | male      | nonsmoker |\n",
       "| 36        | 35        | 40        | full term | 12        | 29        | 8.88      | male      | nonsmoker |\n",
       "| 41        | 40        | 40        | full term | 13        | 30        | 9.00      | female    | nonsmoker |\n",
       "\n"
      ],
      "text/plain": [
       "  f_age m_age weeks premature visits gained weight sex_baby smoke    \n",
       "1 31    30    39    full term 13      1     6.88   male     smoker   \n",
       "2 34    36    39    full term  5     35     7.69   male     nonsmoker\n",
       "3 36    35    40    full term 12     29     8.88   male     nonsmoker\n",
       "4 41    40    40    full term 13     30     9.00   female   nonsmoker"
      ]
     },
     "metadata": {},
     "output_type": "display_data"
    }
   ],
   "source": [
    "library(openintro)\n",
    "library(tidyverse)\n",
    "data(births)\n",
    "head(births, 4)"
   ]
  },
  {
   "cell_type": "code",
   "execution_count": 14,
   "metadata": {},
   "outputs": [],
   "source": [
    "data<-births$weight\n",
    "head(data, 4)"
   ]
  },
  {
   "cell_type": "markdown",
   "metadata": {},
   "source": [
    "#### a) Hipótesis apropiadas sobre la media.\n",
    "\n",
    "En este caso interesa hacer inferencia con respecto a $\\mu$ peso promedio de la población (recien nacidos). En este orden de ideas la hipótesis a contrastar es:\n",
    "\n",
    "\\begin{equation}\n",
    "H_{0}: \\mu = 9 \\hspace{0.9cm} vs \\hspace{0.9cm} H_{1}: \\mu < 9\n",
    "\\end{equation}"
   ]
  },
  {
   "cell_type": "markdown",
   "metadata": {},
   "source": [
    "#### b) Uso de la estadística de prueba."
   ]
  },
  {
   "cell_type": "markdown",
   "metadata": {},
   "source": [
    "Tenemos entonces los siguientes datos: $n=150$, $\\bar{x}=7.046$, se usa el estadístico de prueba: \n",
    "\n",
    "$$Z=\\frac{\\overline{x}-\\mu}{s/\\sqrt{n}}   \\;\\;\\;\\;\\;\\;; \\;\\;\\;\\;\\;\\; Z \\;  \\sim  \\;  Z_{(1-\\alpha)}$$"
   ]
  },
  {
   "cell_type": "code",
   "execution_count": 22,
   "metadata": {},
   "outputs": [
    {
     "data": {
      "text/html": [
       "7.046"
      ],
      "text/latex": [
       "7.046"
      ],
      "text/markdown": [
       "7.046"
      ],
      "text/plain": [
       "[1] 7.046"
      ]
     },
     "metadata": {},
     "output_type": "display_data"
    },
    {
     "data": {
      "text/html": [
       "1.49721038140086"
      ],
      "text/latex": [
       "1.49721038140086"
      ],
      "text/markdown": [
       "1.49721038140086"
      ],
      "text/plain": [
       "[1] 1.49721"
      ]
     },
     "metadata": {},
     "output_type": "display_data"
    }
   ],
   "source": [
    "mean(data)\n",
    "sd(data)"
   ]
  },
  {
   "cell_type": "code",
   "execution_count": 23,
   "metadata": {},
   "outputs": [
    {
     "data": {
      "text/html": [
       "-15.9840694963658"
      ],
      "text/latex": [
       "-15.9840694963658"
      ],
      "text/markdown": [
       "-15.9840694963658"
      ],
      "text/plain": [
       "[1] -15.98407"
      ]
     },
     "metadata": {},
     "output_type": "display_data"
    }
   ],
   "source": [
    "mu<-9\n",
    "Z <- (mean(data)-mu)*sqrt(length(data))/sd(data)  ; Z"
   ]
  },
  {
   "cell_type": "markdown",
   "metadata": {},
   "source": [
    "De esta forma, para la información disponible tenemos que: \n",
    "\n",
    "$$Z=\\frac{\\sqrt[]{n}(\\bar{x}-\\mu_{0})}{s}=\\frac{\\sqrt[]{150}(7.046-9)}{1.497}=-15.98$$\n",
    "\n",
    "Luego se tiene:"
   ]
  },
  {
   "cell_type": "code",
   "execution_count": 26,
   "metadata": {},
   "outputs": [
    {
     "data": {
      "text/html": [
       "-1.64485362695147"
      ],
      "text/latex": [
       "-1.64485362695147"
      ],
      "text/markdown": [
       "-1.64485362695147"
      ],
      "text/plain": [
       "[1] -1.644854"
      ]
     },
     "metadata": {},
     "output_type": "display_data"
    }
   ],
   "source": [
    "########################################################################################################################\n",
    "###########       NORMAL ESTANDAR       qnorm(p, mean = 0, sd = 1, lower.tail = TRUE, log.p = FALSE)   #################\n",
    "########################################################################################################################\n",
    "\n",
    "alpha<-0.05\n",
    "\n",
    "#conociendo z necesario\n",
    "Z_alpha <- qnorm(alpha, 0 , 1, lower.tail = TRUE) # lower.tail=TRUE ent P[X <= x]\n",
    "Z_alpha"
   ]
  },
  {
   "cell_type": "markdown",
   "metadata": {},
   "source": [
    "$$  Z_{(1-\\alpha)} = Z_{0.05} =-1.64$$"
   ]
  },
  {
   "cell_type": "markdown",
   "metadata": {},
   "source": [
    "#### c) Desición\n",
    "\n",
    " $ \\vartheta :$ Luego como $Z= -15.98$, se tiene que a un nivel de significancia de $ \\alpha= 0.05 $, $\\;\\;$ $Z= -15.98 < Z_{(0.05)}=-1.64 $ con lo cual se concluye que se RECHAZA la hipótesis nula $H_o$ afirmandose que el peso promedio de los recien nacidos es mejor a 9kg. esto tambien se evidencia en el p_valor = 8.80729630768984e-58 (el cual es muy pequeño):"
   ]
  },
  {
   "cell_type": "code",
   "execution_count": 27,
   "metadata": {},
   "outputs": [
    {
     "data": {
      "text/html": [
       "8.80729630768984e-58"
      ],
      "text/latex": [
       "8.80729630768984e-58"
      ],
      "text/markdown": [
       "8.80729630768984e-58"
      ],
      "text/plain": [
       "[1] 8.807296e-58"
      ]
     },
     "metadata": {},
     "output_type": "display_data"
    }
   ],
   "source": [
    "p_valor <- pnorm(-15.98, 0 , 1, lower.tail = TRUE); p_valor         # lower.tail=TRUE ent P[X <= x]"
   ]
  },
  {
   "cell_type": "markdown",
   "metadata": {},
   "source": [
    "---\n",
    "#### d) Prueba en R junto con intervalo de confianza"
   ]
  },
  {
   "cell_type": "code",
   "execution_count": 30,
   "metadata": {},
   "outputs": [
    {
     "data": {
      "text/plain": [
       "\n",
       "\tOne Sample t-test\n",
       "\n",
       "data:  data\n",
       "t = -15.984, df = 149, p-value < 2.2e-16\n",
       "alternative hypothesis: true mean is less than 9\n",
       "95 percent confidence interval:\n",
       "     -Inf 7.248336\n",
       "sample estimates:\n",
       "mean of x \n",
       "    7.046 \n"
      ]
     },
     "metadata": {},
     "output_type": "display_data"
    }
   ],
   "source": [
    "t.test(x = data,  alternative = \"less\",  mu = 9, conf.level  = 0.95)  \n",
    "#alternative=\"greater\" or \"less\" or two.sided"
   ]
  }
 ],
 "metadata": {
  "kernelspec": {
   "display_name": "R",
   "language": "R",
   "name": "ir"
  },
  "language_info": {
   "codemirror_mode": "r",
   "file_extension": ".r",
   "mimetype": "text/x-r-source",
   "name": "R",
   "pygments_lexer": "r",
   "version": "3.6.1"
  }
 },
 "nbformat": 4,
 "nbformat_minor": 4
}
