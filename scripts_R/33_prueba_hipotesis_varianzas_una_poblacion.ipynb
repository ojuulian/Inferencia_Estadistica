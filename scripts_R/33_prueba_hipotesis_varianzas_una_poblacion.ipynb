{
 "cells": [
  {
   "cell_type": "markdown",
   "metadata": {},
   "source": [
    "<img src=\"./unal.png\" align=left width=\"150\" height=\"150\"></img>\n",
    "\n",
    "$\\;$\n",
    "---\n",
    "\n",
    "\n",
    "<h2 align=\"center\">PRUEBA DE VARIANZA (para una poblacion)\n",
    "\n",
    "    \n",
    "### Oscar Julian Layton \n",
    "---\n",
    "    \n",
    "$\\;$"
   ]
  },
  {
   "cell_type": "markdown",
   "metadata": {},
   "source": [
    "\n",
    "\n",
    "Para realizar una prueba de varianzas considerese el siguiente resultado:\n",
    "\n",
    "## Resultado importante\n",
    "\n",
    "<div class=\"alert alert-success\">\n",
    "\n",
    "Si $\\{ y_1, y_2 ,..., y_n\\}$ es una _muestra aleatoria_ de distribución normal $N(\\mu,\\sigma^2)$, entonces la variable aleatoria:\n",
    "\n",
    "$$\\chi^{2}_{o} = \\frac{ss}{\\sigma^2} = \\frac{\\sum_{i=1}^{n}(y_i - \\overline{y})^2}{\\sigma^2} \\;\\;\\;\\;\\;\\; ; \\;\\;\\;\\;\\;\\;  \\chi^{2}_{o}  \\; \\sim  \\; \\chi^{2}_{(n-1)}$$\n",
    "</div>\n"
   ]
  },
  {
   "cell_type": "markdown",
   "metadata": {},
   "source": [
    "#### 1. Parámetro Poblacional\n",
    "\n",
    "El parámetro poblacional a contrastar es $\\sigma^2$"
   ]
  },
  {
   "cell_type": "markdown",
   "metadata": {},
   "source": [
    "#### 2. Hipótesis\n",
    "\n",
    "Considérese la varianza poblacional $\\sigma^2$\n",
    "\n",
    "\n",
    "\\begin{equation}\n",
    "H_{0}: \\sigma^2 = \\sigma^2_o \\hspace{0.9cm} vs \\hspace{0.9cm} H_{1}: \\sigma^2 \\neq\\sigma^2_o\n",
    "\\end{equation}"
   ]
  },
  {
   "cell_type": "markdown",
   "metadata": {},
   "source": [
    "#### 3. Estadística de prueba\n",
    "\n",
    "\\begin{equation}\n",
    "\\chi^{2}_{o} = \\frac{ss}{\\sigma^2} = \\frac{\\sum_{i=1}^{n}(y_i - \\overline{y})^2}{\\sigma^2} \\;\\;\\;\\;\\;\\; ; \\;\\;\\;\\;\\;\\;  \\chi^{2}_{o}  \\; \\sim  \\; \\chi^{2}_{(n-1)}\n",
    "\\end{equation}"
   ]
  },
  {
   "cell_type": "markdown",
   "metadata": {},
   "source": [
    "#### 4. Desición\n",
    "\n",
    "<div class=\"alert alert-danger\">\n",
    "\n",
    "\\begin{equation}\n",
    "\\vartheta : \\; Rechazar \\; H_o  \\;\\;\\;\\; sii \\;\\; \\;\\; \\chi^{2}_{o}> \\chi^{2}_{(\\alpha / 2 \\;,\\;  n-1)} \\;\\;\\;\\; o \\;\\;\\;\\; \\chi^{2}_{o}< \\chi^{2}_{(\\alpha / 2 \\;,\\;  n-1)}\n",
    "\\end{equation}\n",
    "\n",
    "</div>"
   ]
  },
  {
   "cell_type": "markdown",
   "metadata": {},
   "source": [
    "----\n",
    "## Ejemplo (Prueba cola derecha)\n",
    "\n",
    "Para verificar si el proceso de llenado de bolsas de café está operando con la variabilidad permitida se toman aleatoriamente muestras de tamaño diez cada cuatro horas. Una muestra de bolsas está compuesta por las siguientes observaciones: 502, 501, 497, 491, 496, 501, 502, 500, 489, 490. El proceso de llenado se distribuye normal también se se desea conocer si el proceso de llenando bolsas genera una desviación mayor a $\\sqrt{40}$. Use un nivel de significancia del 5%."
   ]
  },
  {
   "cell_type": "code",
   "execution_count": null,
   "metadata": {},
   "outputs": [],
   "source": [
    "#Para poder installar la libreria usefultools\n",
    "\n",
    "if (!require('devtools')) install.packages('devtools')\n",
    "devtools::install_github('fhernanb/usefultools', force=TRUE)"
   ]
  },
  {
   "cell_type": "code",
   "execution_count": 27,
   "metadata": {},
   "outputs": [],
   "source": [
    "contenido <- c(510, 492, 494, 498, 492,\n",
    "               496, 502, 491, 507, 496)\n",
    "\n",
    "require(usefultools)  # Ya debe estar instalado"
   ]
  },
  {
   "cell_type": "markdown",
   "metadata": {},
   "source": [
    "#### 1. Parámetro Poblacional\n",
    "\n",
    "El parámetro poblacional a contrastar es $\\sigma^2 >\\sigma^2_o$ "
   ]
  },
  {
   "cell_type": "markdown",
   "metadata": {},
   "source": [
    "\n",
    "#### 2. Hipótesis\n",
    "\n",
    "\n",
    "Considérese la varianza poblacional $\\sigma^2$\n",
    "\n",
    "\n",
    "\\begin{equation}\n",
    "H_{0}: \\sigma^2 = 40 \\hspace{0.9cm} vs \\hspace{0.9cm} H_{1}: \\sigma^2 >40\n",
    "\\end{equation}"
   ]
  },
  {
   "cell_type": "markdown",
   "metadata": {},
   "source": [
    "#### 3. Estadística de prueba\n",
    "\n",
    "\\begin{equation}\n",
    "\\chi^{2}_{o} = \\frac{ss}{\\sigma_o^2} = \\frac{\\sum_{i=1}^{n}(y_i - \\overline{y})^2}{\\sigma_o^2} \\;\\;\\;\\;\\;\\; ; \\;\\;\\;\\;\\;\\;  \\chi^{2}_{o}  \\; \\sim  \\; \\chi^{2}_{(n-1)}\n",
    "\\end{equation}"
   ]
  },
  {
   "cell_type": "code",
   "execution_count": 25,
   "metadata": {},
   "outputs": [
    {
     "data": {
      "text/html": [
       "9.64"
      ],
      "text/latex": [
       "9.64"
      ],
      "text/markdown": [
       "9.64"
      ],
      "text/plain": [
       "[1] 9.64"
      ]
     },
     "metadata": {},
     "output_type": "display_data"
    }
   ],
   "source": [
    "ss<-var(contenido)*(length(contenido)-1)\n",
    "ss/40"
   ]
  },
  {
   "cell_type": "code",
   "execution_count": 18,
   "metadata": {},
   "outputs": [
    {
     "data": {
      "text/html": [
       "16.9189776046204"
      ],
      "text/latex": [
       "16.9189776046204"
      ],
      "text/markdown": [
       "16.9189776046204"
      ],
      "text/plain": [
       "[1] 16.91898"
      ]
     },
     "metadata": {},
     "output_type": "display_data"
    }
   ],
   "source": [
    "##########################            cuantil distribucion chi          ###########################################\n",
    "######  distribución chi    qchisq(p, df, ncp = 0, lower.tail = TRUE, log.p = FALSE)  #si es central npc=0  #######  \n",
    "###################################################################################################################\n",
    "#La chi cuadrado simepre acumula  desde la derecha\n",
    "#    [X >= x]     |  cuantil x^2_(0.95,n-1) |    centro de CHICUADRADO   | cuantil x^2_(0.05,n-1)|     P[X >= x]    \n",
    "###################################################################################################################\n",
    "\n",
    "df<-length(contenido)-1\n",
    "alpha<-0.05\n",
    "#pchisq(q, df, ncp = 0, lower.tail = F)\n",
    "qchisq(alpha, df, ncp = 0, lower.tail = F)"
   ]
  },
  {
   "cell_type": "markdown",
   "metadata": {},
   "source": [
    "Dado lo anterior:\n",
    "\n",
    "$$\\chi^{2}=9.64$$ \n",
    "\n",
    "$$\\chi^{2}_{0.05(9)}=16.91$$ "
   ]
  },
  {
   "cell_type": "markdown",
   "metadata": {},
   "source": [
    "#### 4) Desición\n",
    "\n",
    " $ \\vartheta :$ Luego como $\\chi^{2}_{o}= 9.64$, se tiene que a un nivel de significancia de $ \\alpha= 0.05 $, $\\;\\;$ $\\chi^{2}= 9.64< \\chi^{2}_{\\alpha(n-1)}=16.91 $ con lo cual NO se Rechaza $H_o$ concluyendose que existe evidencia estadística para poder afirmar que la varianza del proceso de llenado es mayor que 40 unidades."
   ]
  },
  {
   "cell_type": "code",
   "execution_count": 26,
   "metadata": {},
   "outputs": [
    {
     "data": {
      "text/html": [
       "0.380407222978091"
      ],
      "text/latex": [
       "0.380407222978091"
      ],
      "text/markdown": [
       "0.380407222978091"
      ],
      "text/plain": [
       "[1] 0.3804072"
      ]
     },
     "metadata": {},
     "output_type": "display_data"
    }
   ],
   "source": [
    "#p-valor\n",
    "pchisq(9.64, df, ncp = 0, lower.tail = F)"
   ]
  },
  {
   "cell_type": "code",
   "execution_count": 35,
   "metadata": {},
   "outputs": [
    {
     "data": {
      "text/plain": [
       "\n",
       "\tOne sample Chi-squared test for variance\n",
       "\n",
       "data:  contenido\n",
       "X-squared = 9.64, df = 9, p-value = 0.3804\n",
       "alternative hypothesis: true variance is greater than 40\n",
       "95 percent confidence interval:\n",
       " 22.79098      Inf\n",
       "sample estimates:\n",
       "var of contenido \n",
       "        42.84444 \n"
      ]
     },
     "metadata": {},
     "output_type": "display_data"
    }
   ],
   "source": [
    "library(TeachingDemos)\n",
    "sigma.test(contenido, sigmasq=40, alternative = \"greater\")  #\"two.sided\", \"less\" o \"greater\"   #sigma = 6.54 =sd"
   ]
  },
  {
   "cell_type": "markdown",
   "metadata": {},
   "source": [
    "Se puede observar que el p_valor es muy grande lo cual afirma el hecho de no rechazar $H_o$"
   ]
  }
 ],
 "metadata": {
  "kernelspec": {
   "display_name": "R",
   "language": "R",
   "name": "ir"
  },
  "language_info": {
   "codemirror_mode": "r",
   "file_extension": ".r",
   "mimetype": "text/x-r-source",
   "name": "R",
   "pygments_lexer": "r",
   "version": "3.6.1"
  }
 },
 "nbformat": 4,
 "nbformat_minor": 4
}
