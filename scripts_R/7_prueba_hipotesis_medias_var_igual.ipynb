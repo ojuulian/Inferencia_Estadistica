{
 "cells": [
  {
   "cell_type": "markdown",
   "metadata": {},
   "source": [
    "<img src=\"./unal.png\" align=left width=\"150\" height=\"150\"></img>\n",
    "\n",
    "$\\;$\n",
    "---\n",
    "\n",
    "\n",
    "<h2 align=\"center\">PRUEBA DE MEDIAS (Poblaciones Normales y  $\\sigma_1^2 = \\sigma_2^2$ )\n",
    "    <h3 align=\"center\">\"prueba dos poblaciones\"\n",
    "\n",
    "    \n",
    "### Oscar Julian Layton \n",
    "---\n",
    "    \n",
    "$\\;$"
   ]
  },
  {
   "cell_type": "markdown",
   "metadata": {},
   "source": [
    "\n",
    "\n",
    "Para realizar una prueba de de media para dos muestras se tiene:\n",
    "\n",
    "## Inferencia de medias para dos muestras\n",
    "\n",
    "Considerese:\n",
    "\n",
    "* $X_{11}, X_{12}, X_{13},...,X_{1 n_1}$ una _muestra aleatoria_ de una población distribuida Normal con media $\\mu_1$ y varianza $\\sigma^2_1$.\n",
    "* $X_{21}, X_{22}, X_{23},...,X_{2 n_1}$ una _muestra aleatoria_ de una población distribuida Normal con media $\\mu_2$ y varianza $\\sigma^2_2$.\n",
    "* $\\sigma^2_1 = \\sigma^2_2 = \\sigma^2$\n",
    "* Las muestras anteriores son independientes entre si.\n",
    "\n",
    "$$E[\\overline{X}_1 - \\overline{X}_2 ]= E[\\overline{X}_1] - E[\\overline{X}_2] = \\mu_1 - \\mu_2$$\n",
    "\n",
    "Ahora considerando que las muestras son independientes entre si y además  $\\sigma_1^2 = \\sigma_2^2 = \\sigma^2$ :\n",
    "\n",
    "$$V(\\overline{X}_1 - \\overline{X}_2 )=V(\\overline{X}_1 ) + V(\\overline{X}_2 ) = \\frac{\\sigma^2_1}{ n_1}  +  \\frac{\\sigma^2_2}{ n_2} = \\sigma^2 \\left (   \\frac{1}{ n_1}  +  \\frac{1}{ n_2}    \\right )$$\n",
    "\n",
    "En consecuencia:\n",
    "\n",
    "* Como las distribuciones poblacionales son Normales, tanto $\\overline{X}_1$ como $\\overline{X}_2$ son normales, por lo tanto $ \\overline{X}_1 - \\overline{X}_2 $ es Normal, además $\\sigma^2_1 = \\sigma^2_2 = \\sigma^2$\n",
    "\n",
    "$$ \\overline{X}_1 - \\overline{X}_2  \\;\\; \\sim \\;\\; N \\left ( \\mu_1 - \\mu_2 \\;\\; ,\\;\\;   s_p \\sqrt{  \\frac{1}{ n_1}  +  \\frac{1}{ n_2}    } \\right ) $$\n",
    "\n",
    "donde:\n",
    "$$s_p^2=\\frac{(n_1 - 1)s^2_1 + (n_2 - 1)s^2_2}{n_1 + n_2 -2}$$\n",
    "\n"
   ]
  },
  {
   "cell_type": "markdown",
   "metadata": {},
   "source": [
    "#### 1. Parámetro Poblacional\n",
    "\n",
    "El parámetro poblacional a contrastar es $\\mu_1 = \\mu_2$ \"Igualdad de medias poblacionales\""
   ]
  },
  {
   "cell_type": "markdown",
   "metadata": {},
   "source": [
    "#### 2. Hipótesis\n",
    "\n",
    "Considérese las medias poblacionales $\\mu_1$  $\\mu_2$\n",
    "\n",
    "\n",
    "\\begin{equation}\n",
    "H_{0}: \\mu_1 - \\mu_2 = \\Delta_o \\hspace{0.9cm} vs \\hspace{0.9cm} H_{1}: \\mu_1 - \\mu_2 > \\Delta_o\n",
    "\\end{equation}"
   ]
  },
  {
   "cell_type": "markdown",
   "metadata": {},
   "source": [
    "#### 3. Estadística de prueba\n",
    "\n",
    "<div class=\"alert alert-success\">\n",
    "Supóngase que $ \\{ x_{11}, x_{12}, ,..., x_{1n}  \\}$ y $\\{  x_{21}, x_{22}, ,..., x_{2n}  \\}$son dos _muestras aleatorias_ independientes deonde $\\sigma_1^2=\\sigma_2^2$, luego\n",
    "\n",
    "\\begin{equation}\n",
    "T=\\frac{(\\overline{X}_1-\\overline{X}_2)-\\Delta_o }{ s_p \\sqrt{ \\frac{1}{ n_1}  +  \\frac{1}{ n_2}}}\\hspace{0.4cm} \\hspace{0.4cm}  \\hspace{1.2cm} ;  \\hspace{1.2cm} T\\mid _{H_0} \\sim t_{(n_1+n_2-2)}\n",
    "\\end{equation}\n",
    "\n",
    "donde:\n",
    "$$s_p^2=\\frac{(n_1 - 1)s^2_1 + (n_2 - 1)s^2_2}{n_1 + n_2 -2}$$\n",
    "    \n",
    "</div>"
   ]
  },
  {
   "cell_type": "markdown",
   "metadata": {},
   "source": [
    "#### 4. Construcción regla de desición\n",
    "\n",
    "Para un $0<\\alpha<1$ nivel de significancia\n",
    "\n",
    "$$P_{\\Delta_{o}}(Error\\; tipo \\; I)=\\alpha$$\n",
    "$$P_{\\Delta_{o}}(Rechaz\\;H_o\\;cuando \\;es \\;verdadera)=\\alpha$$\n",
    "$$P_{\\Delta_{o}}(T \\geq t_{(\\alpha \\;,\\;n_1+ n_2 -2  )} \\; cuando \\; T \\sim t_{(n_1+n_2-2)}) =\\alpha $$\n",
    "\n",
    "En consecuencia:\n",
    "\n",
    "$$P_{\\Delta_{o}}\\left (   \\frac{(\\overline{X}_1-\\overline{X}_2)-\\Delta_o }{s_p \\sqrt{ \\frac{1}{ n_1}  +  \\frac{1}{ n_2}}}\\geq t_{(\\alpha \\;,\\;n_1+ n_2 -2)}   \\right )=\\alpha$$"
   ]
  },
  {
   "cell_type": "markdown",
   "metadata": {},
   "source": [
    "#### 5. Regla de Desición\n"
   ]
  },
  {
   "cell_type": "markdown",
   "metadata": {},
   "source": [
    "<div class=\"alert alert-danger\">\n",
    "\n",
    "Para un $\\alpha$ de significancia se procede a:\n",
    "\n",
    "\\begin{equation}\n",
    "\\vartheta :  \\; \\;Rechazar \\; H_o  \\;\\;\\;\\; sii \\;\\; \\;\\; T \\geq t_{(\\alpha \\;,\\;n_1+ n_2 -2)}\n",
    "\\end{equation}\n",
    "</div>"
   ]
  },
  {
   "cell_type": "markdown",
   "metadata": {},
   "source": [
    "---\n",
    "\n",
    "Para la **potencia de la prueba** se usa el error tipo II\n",
    "\n",
    "$$\\beta(\\mu')=P(Error\\; tipo \\; II) $$\n",
    "\n",
    "$$\\beta(\\mu')= P(Z_c < t_{(\\alpha \\;,\\;n_1+ n_2 -2)} \\;\\; cuando \\; \\;\\mu_1 - \\mu_2 =\\Delta^{´})$$\n",
    "\n",
    "\n",
    "$$\\beta(\\mu') = P \\left (   \\overline{X}_1 -\\overline{X}_2  < \\Delta_o + t_{(\\alpha \\;,\\;n_1+ n_2 -2)} s_p\\left (  \\sqrt{\\frac{1}{ n_1}  +  \\frac{1}{ n_2}}  \\right )  \\;\\; con \\;\\; \\mu_1 - \\mu_2 =\\Delta^{´}   \\right )$$\n",
    "\n",
    "$$\\beta(\\mu') =  \\left (    \\frac{(\\overline{X}_1-\\overline{X}_2)-\\Delta^{´} }{s_p \\sqrt{ \\frac{1}{ n_1}  +  \\frac{1}{ n_2}} } \\; < \\; t_{(\\alpha \\;,\\;n_1+ n_2 -2)} + \\frac{\\Delta_o- \\Delta^{´}}{s_p \\sqrt{ \\frac{1}{ n_1}  +  \\frac{1}{ n_2}}  } \\right )$$\n",
    "$$potencia = 1 - \\beta$$"
   ]
  },
  {
   "cell_type": "markdown",
   "metadata": {},
   "source": [
    "----\n",
    "## Ejemplo\n",
    "\n",
    "Se investigan tipos de aguacates, un agricultor midió los pesos de 17 los aguacates más maduros, los cuales pertenecían a dos tipos de especies diferentes: Criollo (c) y Hass (s). El Agricultor cree que los frutos que están en el piso -maduros  de tipo **Criollo** tienen en promedio un peso mayor que el peso promedio de los aguacates tipo **Hass**. Se desea comprobar estadísticamente la afirmación del agricultor. Los datos experimentales obtenidos por el investigador se presentan en la siguiente tabla:"
   ]
  },
  {
   "cell_type": "markdown",
   "metadata": {},
   "source": [
    "|Tipo|Peso| <div style=\"width:50px\"> </div>|Tipo|Peso|\n",
    "|---|---|---|---|---|\n",
    "|h |15.16 | |h| 30.86|\n",
    "|c |28.99 | |h| 14.00|\n",
    "|c |16.95 | |h| 38.72|\n",
    "|c |29.61 | |h| 23.29|\n",
    "|c |35.61 | |h| 17.00|\n",
    "|c |20.69 | |h| 35.40|\n",
    "|c |17.39 | |h| 19.32|\n",
    "|c |29.94 | |h| 29.88|\n",
    "|c |22.79 | | |      |"
   ]
  },
  {
   "cell_type": "code",
   "execution_count": 3,
   "metadata": {},
   "outputs": [],
   "source": [
    "peso <- c(15.16,28.99,16.99,29.61,35.61,20.69,17.39,29.94,22.79,30.86,14.00,\n",
    "          38.72,23.29,17.00,35.40,19.32,29.88)\n",
    "especie <- c('h',rep('c',8),rep('h',8))\n",
    "data <- data.frame(especie,peso)"
   ]
  },
  {
   "cell_type": "code",
   "execution_count": 7,
   "metadata": {},
   "outputs": [],
   "source": [
    "c<-data$peso[data$especie=='c']\n",
    "h<-data$peso[data$especie=='h']"
   ]
  },
  {
   "cell_type": "markdown",
   "metadata": {},
   "source": [
    "#### Paso 1) Prueba varianzas poblacionales. (primer paso para pruebas de dos poblaciones)\n",
    "\n",
    "Como primera medida se debe conocer si $\\sigma^2_h = \\sigma^2_c$, la prueba se encuentra en el script [Prueba para igualdad de varianzas poblacionales.](./44_prueba_hipotesis_varianza_dos_poblaciones.ipynb). De donde se concluye que $\\sigma_h^2 = \\sigma_c^2$"
   ]
  },
  {
   "cell_type": "markdown",
   "metadata": {},
   "source": [
    "### b) Hipótesis sobre medias poblacionales.\n",
    "\n",
    "Como primera medida se debe contrastar la hiótesis:\n",
    "\n",
    "\\begin{equation}\n",
    "H_{0}: \\mu_1 - \\mu_2 = \\Delta_o \\hspace{0.9cm} vs \\hspace{0.9cm} H_{1}: \\mu_1 - \\mu_2 > \\Delta_o\n",
    "\\end{equation}\n",
    "\n",
    "que es  lo mismo que:\n",
    "\n",
    "\\begin{equation}\n",
    "H_{0}: \\mu_c - \\mu_h = \\Delta_o \\hspace{0.9cm} vs \\hspace{0.9cm} H_{1}: \\mu_c - \\mu_h > \\Delta_o\n",
    "\\end{equation}"
   ]
  },
  {
   "cell_type": "markdown",
   "metadata": {},
   "source": [
    "### b) Uso de la estadística de prueba."
   ]
  },
  {
   "cell_type": "markdown",
   "metadata": {},
   "source": [
    "Se tiene el siguiente Estadístico de prueba donde $\\Delta_0 =0$:\n",
    "\n",
    "\\begin{equation}\n",
    "T=\\frac{(\\overline{X}_1-\\overline{X}_2)-\\Delta_o }{ s_p \\sqrt{ \\frac{1}{ n_1}  +  \\frac{1}{ n_2}}}\\hspace{0.4cm} \\hspace{0.4cm}  \\hspace{1.2cm} ;  \\hspace{1.2cm} T\\mid _{H_0} \\sim t_{(n_1+n_2-2)}\n",
    "\\end{equation}\n",
    "\n",
    "donde:\n",
    "$$s_p^2=\\frac{(n_1 - 1)s^2_1 + (n_2 - 1)s^2_2}{n_1 + n_2 -2}=66.03$$\n",
    "\n",
    "verifiquemos:"
   ]
  },
  {
   "cell_type": "code",
   "execution_count": 37,
   "metadata": {},
   "outputs": [
    {
     "data": {
      "text/html": [
       "8.12621782895977"
      ],
      "text/latex": [
       "8.12621782895977"
      ],
      "text/markdown": [
       "8.12621782895977"
      ],
      "text/plain": [
       "[1] 8.126218"
      ]
     },
     "metadata": {},
     "output_type": "display_data"
    }
   ],
   "source": [
    "n1 <-8\n",
    "n2 <-9\n",
    "\n",
    "s_p_cuadrado <- (1/(n1 + n2 -2))*((n1 -1)*var(c)+(n2 -1)*var(h)) ; \n",
    "s_p<-sqrt(s_p_cuadrado)  ; s_p "
   ]
  },
  {
   "cell_type": "code",
   "execution_count": 38,
   "metadata": {},
   "outputs": [],
   "source": [
    "mean1 <- mean(c)\n",
    "mean2 <- mean(h) "
   ]
  },
  {
   "cell_type": "code",
   "execution_count": 40,
   "metadata": {},
   "outputs": [
    {
     "data": {
      "text/html": [
       "0.102180251691735"
      ],
      "text/latex": [
       "0.102180251691735"
      ],
      "text/markdown": [
       "0.102180251691735"
      ],
      "text/plain": [
       "[1] 0.1021803"
      ]
     },
     "metadata": {},
     "output_type": "display_data"
    }
   ],
   "source": [
    "T<-(mean1-mean2)/(s_p*sqrt(1/n1 + 1/n2 ))  ; T"
   ]
  },
  {
   "cell_type": "markdown",
   "metadata": {},
   "source": [
    "En consecuencia:"
   ]
  },
  {
   "cell_type": "code",
   "execution_count": 57,
   "metadata": {},
   "outputs": [
    {
     "data": {
      "text/html": [
       "2.13144954555978"
      ],
      "text/latex": [
       "2.13144954555978"
      ],
      "text/markdown": [
       "2.13144954555978"
      ],
      "text/plain": [
       "[1] 2.13145"
      ]
     },
     "metadata": {},
     "output_type": "display_data"
    }
   ],
   "source": [
    "##########################  cuantil distribucion t ################################################################\n",
    "######     distribución t     qt(p, df, ncp, lower.tail = TRUE, log.p = FALSE)  #si es central npc=0  #############  \n",
    "###################################################################################################################\n",
    "\n",
    "alpha=0.05\n",
    "df=n1+n2-2    #por ser dos muestras \n",
    "\n",
    "qt(alpha/2,df, 0, lower.tail = FALSE)"
   ]
  },
  {
   "cell_type": "markdown",
   "metadata": {},
   "source": [
    "#### c) Desición\n",
    "\n",
    " $ \\vartheta :$ Luego como $T= 0.102$, se tiene que a un nivel de significancia de $ \\alpha= 0.05 $, $\\;\\;$ $T= 0.102 < t_{[15\\;,\\;0.05/2]}=0.025 $ con lo cual se concluye que NO hay evidencia estadísticamente significativa para rechazar la hipotesis nula, luego no puede aceptarse la afirmación del agricultor. esto tambien se evidencia en el p_valor (el cual es muy grande):\n"
   ]
  },
  {
   "cell_type": "code",
   "execution_count": 62,
   "metadata": {},
   "outputs": [
    {
     "data": {
      "text/html": [
       "0.459983529602261"
      ],
      "text/latex": [
       "0.459983529602261"
      ],
      "text/markdown": [
       "0.459983529602261"
      ],
      "text/plain": [
       "[1] 0.4599835"
      ]
     },
     "metadata": {},
     "output_type": "display_data"
    }
   ],
   "source": [
    "df=n1+n2-2 \n",
    "pt(T, df, 0, lower.tail = FALSE)   #lower.tail=TRUE ent P[X >= x] "
   ]
  },
  {
   "cell_type": "markdown",
   "metadata": {},
   "source": [
    "---\n",
    "#### d) Prueba en R junto con intervalos de confianza"
   ]
  },
  {
   "cell_type": "code",
   "execution_count": 63,
   "metadata": {},
   "outputs": [
    {
     "data": {
      "text/plain": [
       "\n",
       "\tTwo Sample t-test\n",
       "\n",
       "data:  peso by especie\n",
       "t = 0.10218, df = 15, p-value = 0.46\n",
       "alternative hypothesis: true difference in means is greater than 0\n",
       "95 percent confidence interval:\n",
       " -6.518679       Inf\n",
       "sample estimates:\n",
       "mean in group c mean in group h \n",
       "       25.25125        24.84778 \n"
      ]
     },
     "metadata": {},
     "output_type": "display_data"
    }
   ],
   "source": [
    "# Prueba de igualdad de medias #\n",
    "t.test(peso~especie,var.equal=T,alternative=\"greater\")"
   ]
  },
  {
   "cell_type": "code",
   "execution_count": null,
   "metadata": {},
   "outputs": [],
   "source": []
  }
 ],
 "metadata": {
  "kernelspec": {
   "display_name": "R",
   "language": "R",
   "name": "ir"
  },
  "language_info": {
   "codemirror_mode": "r",
   "file_extension": ".r",
   "mimetype": "text/x-r-source",
   "name": "R",
   "pygments_lexer": "r",
   "version": "3.6.1"
  }
 },
 "nbformat": 4,
 "nbformat_minor": 4
}
