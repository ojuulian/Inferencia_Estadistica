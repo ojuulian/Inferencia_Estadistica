{
 "cells": [
  {
   "cell_type": "markdown",
   "metadata": {},
   "source": [
    "<img src=\"./unal.png\" align=left width=\"150\" height=\"150\"></img>\n",
    "\n",
    "$\\;$\n",
    "---\n",
    "\n",
    "\n",
    "<h2 align=\"center\">PRUEBA DE IGUALDAD DE VARIANZAS (para dos poblaciones)\n",
    "\n",
    "    \n",
    "### Oscar Julian Layton \n",
    "---\n",
    "    \n",
    "$\\;$"
   ]
  },
  {
   "cell_type": "markdown",
   "metadata": {},
   "source": [
    "Supóngase que hay dos poblaciones normales e independientes con **varianza común** $(\\sigma^1=\\sigma^2)$, considerese el siguiente resultado: \n",
    "\n",
    "## Resultado importante 1\n",
    "\n",
    "<div class=\"alert alert-success\">\n",
    "\n",
    "Si $\\{ y_1, y_2 ,..., y_n\\}$ es una _muestra aleatoria_ de distribución normal $N(\\mu,\\sigma^2)$, entonces la variable aleatoria:\n",
    "\n",
    "$$\\chi^{2}_{o} = \\frac{ss}{\\sigma^2} = \\frac{\\sum_{i=1}^{n}(y_i - \\overline{y})^2}{\\sigma^2} \\;\\;\\;\\;\\;\\; ; \\;\\;\\;\\;\\;\\;  \\chi^{2}_{o}  \\; \\sim  \\; \\chi^{2}_{(n-1)}$$\n",
    "</div>\n"
   ]
  },
  {
   "cell_type": "markdown",
   "metadata": {},
   "source": [
    "Se tiene que:\n",
    "\n",
    "$$ \\frac{ss_1}{\\sigma^2_1}  \\; \\sim  \\; \\chi^{2}_{(n_1-1)}$$\n",
    "\n",
    "Además\n",
    "\n",
    "$$ \\frac{ss_2}{\\sigma^2_2}  \\; \\sim  \\; \\chi^{2}_{(n_2-1)}$$\n",
    "\n",
    "Ahora usando el siguiente resultado que establece el cociente de dos variables aleatorias sobre sus grados de libertad se distribuye F:"
   ]
  },
  {
   "cell_type": "markdown",
   "metadata": {},
   "source": [
    "## Resultado importante 2\n",
    "\n",
    "<div class=\"alert alert-success\">\n",
    "\n",
    "Si **$\\chi^2_u$** y **$\\chi^2_v$** son variables aleatorias Ji-cuadrada _independientes_ con grados de libertad $u$ y $v$ respectivamente, entonces:\n",
    "\n",
    "$$F_{u,v}=\\frac{\\chi^2_u \\;/\\; u}{\\chi^2_v \\;/\\; v}   \\;\\;\\;\\;\\;\\;; \\;\\;\\;\\;\\;\\; F_{u,v} \\;  \\sim  \\; F_{[u,v]}$$\n",
    "    \n",
    "</div>"
   ]
  },
  {
   "cell_type": "markdown",
   "metadata": {},
   "source": [
    "En consecuencia:\n",
    "\n",
    "$$\\frac{\\frac{ss_1}{\\sigma^2_1} \\; / \\;(n_1 -1)}{\\frac{ss_2}{\\sigma^2_2} \\; / \\;(n_2 -1)} \\;  \\sim  \\; F_{[n_1 -1 \\;,\\; n_2 -1]} $$\n",
    "\n",
    "Lo anterior se puede caracterizar en el siguiente resultado 3."
   ]
  },
  {
   "cell_type": "markdown",
   "metadata": {},
   "source": [
    "## Resultado importante 3 (cociente de varianzas muestrales)\n",
    "\n",
    "<div class=\"alert alert-success\">\n",
    "\n",
    "Suponga que se tiene dos poblaciones normales independientes con varianza común $\\sigma^2$, si $\\{ y_{11}, y_{12} ,..., y_{1n_1}\\}$ es una _muestra aleatoria_ de $n_1$ observaciones de la primera población y si $\\{ y_{21}, y_{22} ,..., y_{2n_2}\\}$ es una _muestra aleatoria_ de $n_2$ observaciones de la segunda población, entonces:\n",
    "\n",
    "\\begin{equation}\n",
    "F= \\frac{S_1^2}{S_2^2} \\;\\;\\;\\;;\\;\\;\\;\\; F\\; \\sim  \\; F_{[n_1 -1, n_2 -1]}\n",
    "\\end{equation}\n",
    "    \n",
    "</div>"
   ]
  },
  {
   "cell_type": "markdown",
   "metadata": {},
   "source": [
    "#### 1. Parámetro Poblacional\n",
    "\n",
    "Los parámetros poblacionales a contrastar son $\\sigma^2_1$ y $\\sigma^2_2$ para la primera y segunda población respectivamente."
   ]
  },
  {
   "cell_type": "markdown",
   "metadata": {},
   "source": [
    "#### 2. Hipótesis\n",
    "\n",
    "Considérese dos poblaciones con varianzas $\\sigma^2_1$ y $\\sigma^2_2$\n",
    "\n",
    "\n",
    "\\begin{equation}\n",
    "H_{0}: \\sigma^2_1 = \\sigma^2_2 \\hspace{0.9cm} vs \\hspace{0.9cm} H_{1}: \\sigma^2_1 \\neq\\sigma^2_2\n",
    "\\end{equation}"
   ]
  },
  {
   "cell_type": "markdown",
   "metadata": {},
   "source": [
    "#### 3. Estadística de prueba\n",
    "\n",
    "\\begin{equation}\n",
    "F= \\frac{S_1^2}{S_2^2} \\;\\;\\;\\;\\; ; \\;\\;\\;\\;\\;  F\\;  \\sim  \\; F_{[n_1 -1 \\;,\\; n_2 -1]}\n",
    "\\end{equation}"
   ]
  },
  {
   "cell_type": "markdown",
   "metadata": {},
   "source": [
    "#### 4. Desición\n",
    "\n",
    "<div class=\"alert alert-danger\">\n",
    "\n",
    "\\begin{equation}\n",
    "\\vartheta : \\; Rechazar \\; H_o  \\;\\;\\;\\; sii \\;\\; \\;\\; |F|\\geq  F_{[n_1 -1 \\;,\\; n_2 -1 \\;,\\;  \\alpha]}\n",
    "\\end{equation}\n",
    "    </div>"
   ]
  },
  {
   "cell_type": "markdown",
   "metadata": {},
   "source": [
    "----\n",
    "## Ejemplo\n",
    "\n",
    "Se investigan tipos de aguacates, un agricultor midió los pesos de 17 los aguacates más maduros, los cuales pertenecían a dos tipos de especies diferentes: Criollo (c) y Hass (s). El Agricultor cree que los frutos que están en el piso -maduros  de tipo **Criollo** tienen en promedio un peso mayor que el peso promedio de los aguacates tipo **Hass**. Se desea comprobar estadísticamente la afirmación del agricultor. Los datos experimentales obtenidos por el investigador se presentan en la siguiente tabla:\n"
   ]
  },
  {
   "cell_type": "markdown",
   "metadata": {},
   "source": [
    "|Tipo|Peso| <div style=\"width:50px\"> </div>|Tipo|Peso|\n",
    "|---|---|---|---|---|\n",
    "|h |15.16 | |h| 30.86|\n",
    "|c |28.99 | |h| 14.00|\n",
    "|c |16.95 | |h| 38.72|\n",
    "|c |29.61 | |h| 23.29|\n",
    "|c |35.61 | |h| 17.00|\n",
    "|c |20.69 | |h| 35.40|\n",
    "|c |17.39 | |h| 19.32|\n",
    "|c |29.94 | |h| 29.88|\n",
    "|c |22.79 | | |      |"
   ]
  },
  {
   "cell_type": "markdown",
   "metadata": {},
   "source": [
    "#### a) Hipótesis apropiadas sobre las varianzas poblacionales.\n",
    "\n",
    "\\begin{equation}\n",
    "H_{0}: \\sigma^2_1 = \\sigma^2_2 \\hspace{0.9cm} vs \\hspace{0.9cm} H_{1}: \\sigma^2_1 \\neq\\sigma^2_2\n",
    "\\end{equation} "
   ]
  },
  {
   "cell_type": "markdown",
   "metadata": {},
   "source": [
    "#### b) Observando supuestos (normalidad)"
   ]
  },
  {
   "cell_type": "code",
   "execution_count": 34,
   "metadata": {},
   "outputs": [
    {
     "data": {
      "text/html": [
       "<table>\n",
       "<thead><tr><th scope=col>especie</th><th scope=col>peso</th></tr></thead>\n",
       "<tbody>\n",
       "\t<tr><td>h    </td><td>15.16</td></tr>\n",
       "\t<tr><td>c    </td><td>28.99</td></tr>\n",
       "\t<tr><td>c    </td><td>16.99</td></tr>\n",
       "\t<tr><td>c    </td><td>29.61</td></tr>\n",
       "\t<tr><td>c    </td><td>35.61</td></tr>\n",
       "\t<tr><td>c    </td><td>20.69</td></tr>\n",
       "</tbody>\n",
       "</table>\n"
      ],
      "text/latex": [
       "\\begin{tabular}{r|ll}\n",
       " especie & peso\\\\\n",
       "\\hline\n",
       "\t h     & 15.16\\\\\n",
       "\t c     & 28.99\\\\\n",
       "\t c     & 16.99\\\\\n",
       "\t c     & 29.61\\\\\n",
       "\t c     & 35.61\\\\\n",
       "\t c     & 20.69\\\\\n",
       "\\end{tabular}\n"
      ],
      "text/markdown": [
       "\n",
       "| especie | peso |\n",
       "|---|---|\n",
       "| h     | 15.16 |\n",
       "| c     | 28.99 |\n",
       "| c     | 16.99 |\n",
       "| c     | 29.61 |\n",
       "| c     | 35.61 |\n",
       "| c     | 20.69 |\n",
       "\n"
      ],
      "text/plain": [
       "  especie peso \n",
       "1 h       15.16\n",
       "2 c       28.99\n",
       "3 c       16.99\n",
       "4 c       29.61\n",
       "5 c       35.61\n",
       "6 c       20.69"
      ]
     },
     "metadata": {},
     "output_type": "display_data"
    }
   ],
   "source": [
    "peso <- c(15.16,28.99,16.99,29.61,35.61,20.69,17.39,29.94,22.79,30.86,14.00,\n",
    "          38.72,23.29,17.00,35.40,19.32,29.88)\n",
    "especie <- c('h',rep('c',8),rep('h',8))\n",
    "data <- data.frame(especie,peso); head(data)"
   ]
  },
  {
   "cell_type": "code",
   "execution_count": 14,
   "metadata": {},
   "outputs": [],
   "source": [
    "# Prueba gráfica de homogeneidad e igualdad de medias  #\n",
    "#boxplot(peso ~ especie)"
   ]
  },
  {
   "cell_type": "markdown",
   "metadata": {},
   "source": [
    "Como primer aspecto a considerar es que h y c sean poblaciones normales."
   ]
  },
  {
   "cell_type": "code",
   "execution_count": 39,
   "metadata": {},
   "outputs": [
    {
     "data": {
      "image/png": "[encoded data removed]",
      "text/plain": [
       "Plot with title \"Normal Q-Q Plot (para h)\""
      ]
     },
     "metadata": {},
     "output_type": "display_data"
    }
   ],
   "source": [
    "# Gráfico qqplot para identificar normalidad #\n",
    "\n",
    "par(mfrow=c(1,2))\n",
    "c<-data$peso[data$especie=='c']\n",
    "qqnorm(c, main=\"Normal Q-Q Plot (para c)\")\n",
    "qqline(c)\n",
    "\n",
    "h<-data$peso[data$especie=='h']\n",
    "qqnorm(h, main=\"Normal Q-Q Plot (para h)\")\n",
    "qqline(h)"
   ]
  },
  {
   "cell_type": "code",
   "execution_count": 41,
   "metadata": {},
   "outputs": [
    {
     "data": {
      "text/plain": [
       "\n",
       "\tShapiro-Wilk normality test\n",
       "\n",
       "data:  c\n",
       "W = 0.92129, p-value = 0.4405\n"
      ]
     },
     "metadata": {},
     "output_type": "display_data"
    },
    {
     "data": {
      "text/plain": [
       "\n",
       "\tShapiro-Wilk normality test\n",
       "\n",
       "data:  h\n",
       "W = 0.92101, p-value = 0.4007\n"
      ]
     },
     "metadata": {},
     "output_type": "display_data"
    }
   ],
   "source": [
    "# Prueba parámetrica de normalidad #\n",
    "shapiro.test(c)\n",
    "shapiro.test(h)"
   ]
  },
  {
   "cell_type": "markdown",
   "metadata": {},
   "source": [
    "Se puede afirmar que las dos especies de aguacates son normales, tanto por el qqplot como por el test de normaldad Shapiro-Wilk.\n",
    "\n",
    "### iii Los supuestos se cumplen !!!"
   ]
  },
  {
   "cell_type": "markdown",
   "metadata": {},
   "source": [
    "---\n",
    "#### b) Estadística de prueba\n",
    "\\begin{equation}\n",
    "F= \\frac{S_1^2}{S_2^2} \\;\\;\\;\\;;\\;\\;\\;\\; F\\; \\sim  \\; F_{[n_1 -1, n_2 -1]}\n",
    "\\end{equation}"
   ]
  },
  {
   "cell_type": "code",
   "execution_count": 49,
   "metadata": {},
   "outputs": [
    {
     "data": {
      "text/html": [
       "83.9194944444444"
      ],
      "text/latex": [
       "83.9194944444444"
      ],
      "text/markdown": [
       "83.9194944444444"
      ],
      "text/plain": [
       "[1] 83.91949"
      ]
     },
     "metadata": {},
     "output_type": "display_data"
    },
    {
     "data": {
      "text/html": [
       "45.5964696428571"
      ],
      "text/latex": [
       "45.5964696428571"
      ],
      "text/markdown": [
       "45.5964696428571"
      ],
      "text/plain": [
       "[1] 45.59647"
      ]
     },
     "metadata": {},
     "output_type": "display_data"
    }
   ],
   "source": [
    "var(h)  #varianza para h\n",
    "var(c)  #varianza para c"
   ]
  },
  {
   "cell_type": "code",
   "execution_count": 50,
   "metadata": {},
   "outputs": [
    {
     "data": {
      "text/html": [
       "1.8404822807941"
      ],
      "text/latex": [
       "1.8404822807941"
      ],
      "text/markdown": [
       "1.8404822807941"
      ],
      "text/plain": [
       "[1] 1.840482"
      ]
     },
     "metadata": {},
     "output_type": "display_data"
    }
   ],
   "source": [
    "F<-var(h)/var(c)   ; F"
   ]
  },
  {
   "cell_type": "code",
   "execution_count": 70,
   "metadata": {},
   "outputs": [
    {
     "data": {
      "text/html": [
       "4.89934064826824"
      ],
      "text/latex": [
       "4.89934064826824"
      ],
      "text/markdown": [
       "4.89934064826824"
      ],
      "text/plain": [
       "[1] 4.899341"
      ]
     },
     "metadata": {},
     "output_type": "display_data"
    }
   ],
   "source": [
    "##########################  cuantil distribuvion F #########################################\n",
    "######     distribución F    qf(p, df1, df2, ncp, lower.tail = TRUE, log.p = FALSE)  ###### \n",
    "#La F simepre acumula  desde la derecha,,, luego  ----> lower.tail=FALSE ent P[X >= x]\n",
    "#    [X >= x]     |  cuantil F_(gl_n, gl_d, 1- alpha) |    centro de F  | cuantil F_(gl_n, gl_d, alpha) |     P[X >= x]    \n",
    "#############################################################################################\n",
    "\n",
    "gl_h<-length(h)-1\n",
    "gl_c<-length(c)-1\n",
    "alpha<- 0.05\n",
    "\n",
    "#pf(30.04, gl_h, gl_c, 0, lower.tail = FALSE)\n",
    "qf(alpha/2, gl_h, gl_c, 0, lower.tail = FALSE)"
   ]
  },
  {
   "cell_type": "markdown",
   "metadata": {},
   "source": [
    "#### c) Desición\n",
    "\n",
    "Luego como $F_c=1.84$, se tiene que a un nivel de significancia de $ \\alpha= 0.05 $, $\\;\\;$ $F_c=1.84 < F_{[8,7,0.05]}=4.8 $\n"
   ]
  },
  {
   "cell_type": "markdown",
   "metadata": {},
   "source": [
    "$$ \\vartheta : \\; Se\\; Rechaza \\; H_o  \\;\\;\\;\\;$$\n",
    "\n",
    "y se concluye que hay evidencia estadística para aceptar que las varianzas son iguales. esto tambien se evidencia en el p_valor:\n"
   ]
  },
  {
   "cell_type": "code",
   "execution_count": 67,
   "metadata": {},
   "outputs": [
    {
     "data": {
      "text/html": [
       "0.436435349605586"
      ],
      "text/latex": [
       "0.436435349605586"
      ],
      "text/markdown": [
       "0.436435349605586"
      ],
      "text/plain": [
       "[1] 0.4364353"
      ]
     },
     "metadata": {},
     "output_type": "display_data"
    }
   ],
   "source": [
    "2*pf(1.84, gl_h, gl_c, 0, lower.tail = FALSE)"
   ]
  },
  {
   "cell_type": "markdown",
   "metadata": {},
   "source": [
    "---\n",
    "#### d) Prueba en R"
   ]
  },
  {
   "cell_type": "code",
   "execution_count": 68,
   "metadata": {},
   "outputs": [
    {
     "data": {
      "text/plain": [
       "\n",
       "\tF test to compare two variances\n",
       "\n",
       "data:  peso by especie == \"c\"\n",
       "F = 1.8405, num df = 8, denom df = 7, p-value = 0.4362\n",
       "alternative hypothesis: true ratio of variances is not equal to 1\n",
       "95 percent confidence interval:\n",
       " 0.3756592 8.3347384\n",
       "sample estimates:\n",
       "ratio of variances \n",
       "          1.840482 \n"
      ]
     },
     "metadata": {},
     "output_type": "display_data"
    }
   ],
   "source": [
    "# ¿Podemos suponer que las varianzas son +/- iguales?  #\n",
    "var.test(peso~ especie=='c')"
   ]
  },
  {
   "cell_type": "code",
   "execution_count": null,
   "metadata": {},
   "outputs": [],
   "source": [
    "var.test(peso, especie=='c', alternative=\"two.sided\", conf.level=0.95)"
   ]
  }
 ],
 "metadata": {
  "kernelspec": {
   "display_name": "R",
   "language": "R",
   "name": "ir"
  },
  "language_info": {
   "codemirror_mode": "r",
   "file_extension": ".r",
   "mimetype": "text/x-r-source",
   "name": "R",
   "pygments_lexer": "r",
   "version": "3.6.1"
  }
 },
 "nbformat": 4,
 "nbformat_minor": 4
}
