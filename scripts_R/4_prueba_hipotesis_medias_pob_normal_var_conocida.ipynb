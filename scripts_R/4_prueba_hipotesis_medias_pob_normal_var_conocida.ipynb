{
 "cells": [
  {
   "cell_type": "markdown",
   "metadata": {},
   "source": [
    "<img src=\"./unal.png\" align=left width=\"150\" height=\"150\"></img>\n",
    "\n",
    "$\\;$\n",
    "---\n",
    "\n",
    "\n",
    "<h2 align=\"center\">PRUEBA DE MEDIAS (Poblaciones Normales y varianzas conocidas)\n",
    "    <h3 align=\"center\">\"prueba dos poblaciones\"\n",
    "\n",
    "    \n",
    "### Oscar Julian Layton \n",
    "---\n",
    "    \n",
    "$\\;$"
   ]
  },
  {
   "cell_type": "markdown",
   "metadata": {},
   "source": [
    "\n",
    "\n",
    "Para realizar una prueba de de media para dos muestras se tiene:\n",
    "\n",
    "## Inferencia de medias para dos muestras (varianzas conocidas)\n",
    "\n",
    "Considerese:\n",
    "\n",
    "* $X_{11}, X_{12}, X_{13},...,X_{1 n_1}$ una _muestra aleatoria_ de una población distribuida Normal con media $\\mu_1$ y varianza $\\sigma^2_1$.\n",
    "* $X_{21}, X_{22}, X_{23},...,X_{2 n_1}$ una _muestra aleatoria_ de una población distribuida Normal con media $\\mu_2$ y varianza $\\sigma^2_2$.\n",
    "* Las muestras anteriores son independientes entre si.\n",
    "\n",
    "$$E[\\overline{X}_1 - \\overline{X}_2 ]= E[\\overline{X}_1] - E[\\overline{X}_2] = \\mu_1 - \\mu_2$$\n",
    "\n",
    "Ahora considerando que las muestras son independientes  :\n",
    "\n",
    "$$V(\\overline{X}_1 - \\overline{X}_2 )=V(\\overline{X}_1 ) + V(\\overline{X}_2 ) = \\frac{\\sigma^2_1}{ n_1}  +  \\frac{\\sigma^2_2}{ n_2} $$\n",
    "\n",
    "Como las distribuciones poblacionales son Normales, tanto $\\overline{X}_1$ como $\\overline{X}_2$ son normales, por lo tanto $ \\overline{X}_1 - \\overline{X}_2 $ es Normal, luego:\n",
    "\n",
    "\n",
    "$$ \\overline{X}_1 - \\overline{X}_2  \\;\\; \\sim \\;\\; N \\left ( \\mu_1 - \\mu_2 , \\sqrt{\\frac{\\sigma^2_1}{ n_1}  +  \\frac{\\sigma^2_2}{ n_2}} \\right ) $$\n",
    "\n",
    "En consecuencia:"
   ]
  },
  {
   "cell_type": "markdown",
   "metadata": {},
   "source": [
    "\n",
    "<div class=\"alert alert-success\">\n",
    "\n",
    "Cuando las distribuciones poblacionales de las dospoblaciones son Normales, la variable estandarizada\n",
    "\n",
    "\n",
    "\\begin{equation}\n",
    "Z=\\frac{(\\overline{X}_1-\\overline{X}_2)-\\Delta_o }{\\sqrt{\\frac{\\sigma^2_1}{ n_1}  +  \\frac{\\sigma^2_2}{ n_2}}}\\hspace{0.4cm} \\hspace{0.4cm}  \\hspace{1.2cm} ;  \\hspace{1.2cm} Z \\mid _{H_0} \\sim N(0,1)\n",
    "\\end{equation}\n",
    "\n",
    "\n",
    "</div>\n"
   ]
  },
  {
   "cell_type": "markdown",
   "metadata": {},
   "source": [
    "#### 1. Parámetro Poblacional\n",
    "\n",
    "El parámetro poblacional a contrastar es $\\mu_1 = \\mu_2$ \"Igualdad de medias poblacionales\""
   ]
  },
  {
   "cell_type": "markdown",
   "metadata": {},
   "source": [
    "#### 2. Hipótesis\n",
    "\n",
    "Considérese las medias poblacionales $\\mu_1$ y $\\mu_2$\n",
    "\n",
    "\n",
    "\\begin{equation}\n",
    "H_{0}: \\mu_1 - \\mu_2 = \\Delta_o \\hspace{0.9cm} vs \\hspace{0.9cm} H_{1}: \\mu_1 - \\mu_2 > \\Delta_o\n",
    "\\end{equation}"
   ]
  },
  {
   "cell_type": "markdown",
   "metadata": {},
   "source": [
    "#### 3. Estadística de prueba\n",
    "\n",
    "$\\;$\n",
    "\n",
    "\\begin{equation}\n",
    "Z=\\frac{(\\overline{X}_1-\\overline{X}_2)-\\Delta_o }{\\sqrt{\\frac{\\sigma^2_1}{ n_1}  +  \\frac{\\sigma^2_2}{ n_2}}}\\hspace{0.4cm} \\hspace{0.4cm}  \\hspace{1.2cm} ;  \\hspace{1.2cm} Z\\mid _{H_0} \\sim Z(0,1)\n",
    "\\end{equation}\n"
   ]
  },
  {
   "cell_type": "markdown",
   "metadata": {},
   "source": [
    "#### 4. Construcción regla de desición\n",
    "\n",
    "Para un $0<\\alpha<1$ nivel de significancia\n",
    "\n",
    "$$P_{\\Delta_{o}}(Error\\; tipo \\; I)=\\alpha$$\n",
    "$$P_{\\Delta_{o}}(Rechaz\\;H_o\\;cuando \\;es \\;verdadera)=\\alpha$$\n",
    "$$P_{\\Delta_{o}}(Z \\geq Z_{(1-\\alpha)} \\; cuando \\; N(0,1)) =\\alpha $$\n",
    "\n",
    "En consecuencia:\n",
    "\n",
    "$$P_{\\Delta_{o}}\\left (   \\frac{(\\overline{X}_1-\\overline{X}_2)-\\Delta_o }{\\sqrt{\\frac{\\sigma^2_1}{ n_1}  +  \\frac{\\sigma^2_2}{ n_2}}}\\geq Z(0,1)   \\right )=\\alpha$$"
   ]
  },
  {
   "cell_type": "markdown",
   "metadata": {},
   "source": [
    "#### 5. Regla de Desición\n"
   ]
  },
  {
   "cell_type": "markdown",
   "metadata": {},
   "source": [
    "<div class=\"alert alert-danger\">\n",
    "\n",
    "Para un $\\alpha$ de significancia se procede a:\n",
    "\n",
    "\\begin{equation}\n",
    "\\vartheta :  \\; \\;Rechazar \\; H_o  \\;\\;\\;\\; sii \\;\\; \\;\\; Z \\geq Z_{(1-\\alpha)}\n",
    "\\end{equation}\n",
    "</div>"
   ]
  },
  {
   "cell_type": "markdown",
   "metadata": {},
   "source": [
    "---\n",
    "\n",
    "Para la **potencia de la prueba** se usa el error tipo II\n",
    "\n",
    "$$\\beta(\\mu')=P(Error\\; tipo \\; II) $$\n",
    "\n",
    "$$\\beta(\\mu')= P(Z < Z_{(1-\\alpha)} \\;\\; cuando \\; \\;\\mu_1 - \\mu_2 =\\Delta^{´})$$\n",
    "\n",
    "\n",
    "$$\\beta(\\mu') = P \\left (   \\overline{X}_1 -\\overline{X}_2  < \\Delta_o + Z_{(1-\\alpha)}(\\sqrt{\\frac{\\sigma^2_1}{ n_1}  +  \\frac{\\sigma^2_2}{ n_2}}) \\;\\; con \\;\\; \\mu_1 - \\mu_2 =\\Delta^{´}   \\right )$$\n",
    "\n",
    "$$\\beta(\\mu') =  \\left (    \\frac{(\\overline{X}_1-\\overline{X}_2)-\\Delta^{´} }{\\sqrt{\\frac{\\sigma^2_1}{ n_1}  +  \\frac{\\sigma^2_2}{ n_2}}} <Z_{(1-\\alpha)} + \\frac{\\Delta_o- \\Delta^{´}}{\\sqrt{\\frac{\\sigma^2_1}{ n_1}  +  \\frac{\\sigma^2_2}{ n_2}} } \\right )$$\n",
    "$$potencia = 1 - \\beta$$"
   ]
  },
  {
   "cell_type": "markdown",
   "metadata": {},
   "source": [
    "----\n",
    "## Ejemplo (Prueba cola izquierda)\n",
    "\n",
    "\n",
    "Un dueño de una fábrica tiene un pedido muy grande y para llevarlo a cabo necesita conocer cuál de las dos máquinas para realizar el proceso trabaja con mayor velocidad, el intuye que la maquina 2 es más efectiva y para ello hace una prueba, toman el tiempo de fabricación en minutos de 10 productos en cada máquina. Los resultados son:\n",
    "\n",
    "* Máquina 1: (15, 16, 15, 14, 14, 15, 13, 15, 15,14) \n",
    "* Máquina 2: (16, 15, 14, 17, 12, 17, 15, 16, 15,14)\n",
    "\n",
    "¿Es posible que la maquina 2 tenga un mejor tiempo de producción que la maquina 1 usando un nivel de significancia de 0.05?"
   ]
  },
  {
   "cell_type": "code",
   "execution_count": 98,
   "metadata": {},
   "outputs": [],
   "source": [
    "maquina_1 <- c(14,13,15,14,17,16,15,16,13,17)\n",
    "maquina_2 <- c(16,15,14,17,12,17,15,16,15,14)"
   ]
  },
  {
   "cell_type": "markdown",
   "metadata": {},
   "source": [
    "miremos la distribución de las dos poblaciones."
   ]
  },
  {
   "cell_type": "code",
   "execution_count": 93,
   "metadata": {},
   "outputs": [
    {
     "data": {
      "text/plain": [
       "\n",
       "\tShapiro-Wilk normality test\n",
       "\n",
       "data:  maquina_1\n",
       "W = 0.91807, p-value = 0.3411\n"
      ]
     },
     "metadata": {},
     "output_type": "display_data"
    },
    {
     "data": {
      "text/plain": [
       "\n",
       "\tShapiro-Wilk normality test\n",
       "\n",
       "data:  maquina_2\n",
       "W = 0.92925, p-value = 0.4406\n"
      ]
     },
     "metadata": {},
     "output_type": "display_data"
    }
   ],
   "source": [
    "shapiro.test(maquina_1)\n",
    "shapiro.test(maquina_2)"
   ]
  },
  {
   "cell_type": "code",
   "execution_count": 96,
   "metadata": {},
   "outputs": [
    {
     "data": {
      "image/png": "[encoded data removed]",
      "text/plain": [
       "Plot with title \"qqplot Maquina 2\""
      ]
     },
     "metadata": {},
     "output_type": "display_data"
    }
   ],
   "source": [
    "op <- par(mfrow =c(1,2), cex.axis=.7, cex.lab=.9 )\n",
    "qqnorm(maquina_1,col=\"blue\",xlab=\"Eje z\",ylab=\"Tiempo\", main=\"qqplot Maquina 1\"); qqline(maquina_1,col=\"red\")\n",
    "qqnorm(maquina_2,col=\"blue\",xlab=\"Eje z\",ylab=\"Tiempo\", main=\"qqplot Maquina 2\"); qqline(maquina_2,col=\"red\")"
   ]
  },
  {
   "cell_type": "markdown",
   "metadata": {},
   "source": [
    "Según la prueba de normalidad Shapiro-Wilk para las dos muestras, se afirma el hecho de ser poblaciones normales. Además los qq-plot evidencian este supuesto\n"
   ]
  },
  {
   "cell_type": "markdown",
   "metadata": {},
   "source": [
    "#### 1. Parámetro Poblacional\n",
    "\n",
    "El parámetro poblacional a contrastar es $\\mu_1 < \\mu_2$ "
   ]
  },
  {
   "cell_type": "markdown",
   "metadata": {},
   "source": [
    "\n",
    "#### 2. Hipótesis\n",
    "\n",
    "Considérese las medias poblacionales $\\mu_1$  $\\mu_2$, con $\\Delta_o =0$ \n",
    "\n",
    "\\begin{equation}\n",
    "H_{0}: \\mu_1 - \\mu_2 = \\Delta_o \\hspace{0.9cm} vs \\hspace{0.9cm} H_{1}: \\mu_1 - \\mu_2 < \\Delta_o\n",
    "\\end{equation}\n",
    "\n"
   ]
  },
  {
   "cell_type": "markdown",
   "metadata": {},
   "source": [
    "#### 3. Estadística de prueba"
   ]
  },
  {
   "cell_type": "markdown",
   "metadata": {},
   "source": [
    "\n",
    "Cuando la distribuciones poblacional es Normal, la variable estandarizada\n",
    "\n",
    "\\begin{equation}\n",
    "Z=\\frac{(\\overline{X}_1-\\overline{X}_2)-\\Delta_o }{\\sqrt{\\frac{\\sigma^2_1}{ n_1}  +  \\frac{\\sigma^2_2}{ n_2}}}\\hspace{0.4cm} \\hspace{0.4cm}  \\hspace{1.2cm} ;  \\hspace{1.2cm} Z\\mid _{H_0} \\sim Z(0,1)\n",
    "\\end{equation}\n",
    "\n",
    "Verificando el resultado:"
   ]
  },
  {
   "cell_type": "code",
   "execution_count": 102,
   "metadata": {},
   "outputs": [],
   "source": [
    "n1 <-length(maquina_1)\n",
    "n2 <-length(maquina_2)"
   ]
  },
  {
   "cell_type": "code",
   "execution_count": 103,
   "metadata": {},
   "outputs": [
    {
     "data": {
      "text/html": [
       "-0.148340452930244"
      ],
      "text/latex": [
       "-0.148340452930244"
      ],
      "text/markdown": [
       "-0.148340452930244"
      ],
      "text/plain": [
       "[1] -0.1483405"
      ]
     },
     "metadata": {},
     "output_type": "display_data"
    }
   ],
   "source": [
    "var1<-3\n",
    "var2<-2\n",
    "Z<-(mean(maquina_1)-mean(maquina_2) )  /sqrt(var(maquina_1)/n1 + var(maquina_2)/n2 )  ; Z"
   ]
  },
  {
   "cell_type": "markdown",
   "metadata": {},
   "source": [
    "Buscando el cuantil teórico:"
   ]
  },
  {
   "cell_type": "code",
   "execution_count": 104,
   "metadata": {},
   "outputs": [
    {
     "data": {
      "text/html": [
       "-1.64485362695147"
      ],
      "text/latex": [
       "-1.64485362695147"
      ],
      "text/markdown": [
       "-1.64485362695147"
      ],
      "text/plain": [
       "[1] -1.644854"
      ]
     },
     "metadata": {},
     "output_type": "display_data"
    }
   ],
   "source": [
    "########################################################################################################################\n",
    "###########       NORMAL ESTANDAR       qnorm(p, mean = 0, sd = 1, lower.tail = TRUE, log.p = FALSE)   #################\n",
    "########################################################################################################################\n",
    "\n",
    "#conociendo z necesario\n",
    "\n",
    "Z_alpha <- qnorm(0.05, 0 , 1, lower.tail = TRUE) # lower.tail=TRUE ent P[X <= x]  #alpha/2 para prueba dos colas,\n",
    "Z_alpha                        \n"
   ]
  },
  {
   "cell_type": "markdown",
   "metadata": {},
   "source": [
    "$$Z=-0.14$$\n",
    "$$Z_{0.05}=-1.64$$"
   ]
  },
  {
   "cell_type": "markdown",
   "metadata": {},
   "source": [
    "#### c) Desición\n",
    "\n",
    " $ \\vartheta :$ Luego como $Z= -1.41$, se tiene que a un nivel de significancia de $ \\alpha= 0.05 $, $\\;\\;$ $Z= -0.41 > Z_{0.1}=-1.64 $ con lo cual No rechazamos Ho, e.o.p existe evidencia que la maquina 2 es más igual rápida que la maquina 1 por lo que se puede hacer uso tanto de la maquina 2 como de la maquina 1 para un tiempo de producción menor y cumplir con la entrega todo esto a un nivel de significancia de 0.05"
   ]
  },
  {
   "cell_type": "markdown",
   "metadata": {},
   "source": [
    "---\n",
    "#### d) Prueba en R junto con intervalos de confianza"
   ]
  },
  {
   "cell_type": "code",
   "execution_count": 100,
   "metadata": {},
   "outputs": [
    {
     "data": {
      "text/plain": [
       "\n",
       "\tTwo-sample z-Test\n",
       "\n",
       "data:  maquina_1 and maquina_2\n",
       "z = -0.14834, p-value = 0.441\n",
       "alternative hypothesis: true difference in means is less than 0\n",
       "95 percent confidence interval:\n",
       "       NA 1.008837\n",
       "sample estimates:\n",
       "mean of x mean of y \n",
       "     15.0      15.1 \n"
      ]
     },
     "metadata": {},
     "output_type": "display_data"
    }
   ],
   "source": [
    "library(BSDA)\n",
    "\n",
    "z.test(x=maquina_1,\n",
    "       y=maquina_2,\n",
    "       alternative=\"less\",\n",
    "       mu=0,\n",
    "       sigma.x=sd(maquina_1),\n",
    "       sigma.y=sd(maquina_2),\n",
    "       conf.level=0.95)\n",
    "#alternative=\"greater\"   or   \"less\"     or   \"two.sided\"  "
   ]
  },
  {
   "cell_type": "code",
   "execution_count": null,
   "metadata": {},
   "outputs": [],
   "source": []
  }
 ],
 "metadata": {
  "kernelspec": {
   "display_name": "R",
   "language": "R",
   "name": "ir"
  },
  "language_info": {
   "codemirror_mode": "r",
   "file_extension": ".r",
   "mimetype": "text/x-r-source",
   "name": "R",
   "pygments_lexer": "r",
   "version": "3.6.1"
  }
 },
 "nbformat": 4,
 "nbformat_minor": 4
}
