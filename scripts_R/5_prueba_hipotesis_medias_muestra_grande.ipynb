{
 "cells": [
  {
   "cell_type": "markdown",
   "metadata": {},
   "source": [
    "<img src=\"./unal.png\" align=left width=\"150\" height=\"150\"></img>\n",
    "\n",
    "$\\;$\n",
    "---\n",
    "\n",
    "\n",
    "<h2 align=\"center\">PRUEBA DE MEDIAS (muestras grandes)\n",
    "    <h3 align=\"center\">\"prueba dos poblaciones\"\n",
    "\n",
    "    \n",
    "### Oscar Julian Layton \n",
    "---\n",
    "    \n",
    "$\\;$"
   ]
  },
  {
   "cell_type": "markdown",
   "metadata": {},
   "source": [
    "\n",
    "\n",
    "Para realizar una prueba de de media para dos muestras se tiene:\n",
    "\n",
    "## Inferencia de medias para dos muestras independientes\n",
    "\n",
    "Considerese:\n",
    "\n",
    "* $X_{11}, X_{12}, X_{13},...,X_{1 n_1}$ una _muestra aleatoria_ de una población distribuida Normal con media $\\mu_1$ y varianza $\\sigma^2_1$.\n",
    "* $X_{21}, X_{22}, X_{23},...,X_{2 n_1}$ una _muestra aleatoria_ de una población distribuida Normal con media $\\mu_2$ y varianza $\\sigma^2_2$.\n",
    "* Las muestras anteriores son independientes entre si.\n",
    "\n",
    "$$E[\\overline{X}_1 - \\overline{X}_2 ]= E[\\overline{X}_1] - E[\\overline{X}_2] = \\mu_1 - \\mu_2$$\n",
    "\n",
    "Ahora considerando que las muestras son independientes  :\n",
    "\n",
    "$$V(\\overline{X}_1 - \\overline{X}_2 )=V(\\overline{X}_1 ) + V(\\overline{X}_2 ) = \\frac{\\sigma^2_1}{ n_1}  +  \\frac{\\sigma^2_2}{ n_2} $$\n",
    "\n",
    "Como las distribuciones poblacionales son Normales, tanto $\\overline{X}_1$ como $\\overline{X}_2$ son normales, por lo tanto $ \\overline{X}_1 - \\overline{X}_2 $ es Normal, luego:\n",
    "\n",
    "\n",
    "$$ \\overline{X}_1 - \\overline{X}_2  \\;\\; \\sim \\;\\; N \\left ( \\mu_1 - \\mu_2 , \\sqrt{\\frac{S^2_1}{ n_1}  +  \\frac{S^2_2}{ n_2}} \\right ) $$\n",
    "\n"
   ]
  },
  {
   "cell_type": "markdown",
   "metadata": {},
   "source": [
    "\n",
    "<div class=\"alert alert-success\">\n",
    "\n",
    "En consecuencia, al ser n grande por el **teorema central del límite (TCL)**\n",
    "\n",
    "\\begin{equation}\n",
    "Z=\\frac{(\\overline{X}_1-\\overline{X}_2)-\\Delta_o }{ \\sqrt{\\frac{S^2_1}{ n_1}  +  \\frac{S^2_2}{ n_2}} }\\hspace{0.4cm} \\hspace{0.4cm}  \\hspace{1.2cm} ;  \\hspace{1.2cm} Z \\mid _{H_0} \\sim N(0,1)\n",
    "\\end{equation}\n",
    "\n",
    "\n",
    "</div>\n"
   ]
  },
  {
   "cell_type": "markdown",
   "metadata": {},
   "source": [
    "#### 1. Parámetro Poblacional\n",
    "\n",
    "El parámetro poblacional a contrastar es $\\mu_1 = \\mu_2$ \"Igualdad de medias poblacionales\""
   ]
  },
  {
   "cell_type": "markdown",
   "metadata": {},
   "source": [
    "#### 2. Hipótesis\n",
    "\n",
    "Considérese las medias poblacionales $\\mu_1$ y $\\mu_2$\n",
    "\n",
    "\n",
    "\\begin{equation}\n",
    "H_{0}: \\mu_1 - \\mu_2 = \\Delta_o \\hspace{0.9cm} vs \\hspace{0.9cm} H_{1}: \\mu_1 - \\mu_2 > \\Delta_o\n",
    "\\end{equation}"
   ]
  },
  {
   "cell_type": "markdown",
   "metadata": {},
   "source": [
    "#### 3. Estadística de prueba\n",
    "\n",
    "$\\;$\n",
    "\n",
    "\\begin{equation}\n",
    "Z=\\frac{(\\overline{X}_1-\\overline{X}_2)-\\Delta_o }{ \\sqrt{\\frac{S^2_1}{ n_1}  +  \\frac{S^2_2}{ n_2}} }\\hspace{0.4cm} \\hspace{0.4cm}  \\hspace{1.2cm} ;  \\hspace{1.2cm} Z \\mid _{H_0} \\sim N(0,1)\n",
    "\\end{equation}\n"
   ]
  },
  {
   "cell_type": "markdown",
   "metadata": {},
   "source": [
    "#### 4. Construcción regla de desición\n",
    "\n",
    "Para un $0<\\alpha<1$ nivel de significancia\n",
    "\n",
    "$$P_{\\Delta_{o}}(Error\\; tipo \\; I)=\\alpha$$\n",
    "$$P_{\\Delta_{o}}(Rechaz\\;H_o\\;cuando \\;es \\;verdadera)=\\alpha$$\n",
    "$$P_{\\Delta_{o}}(Z \\geq Z_{(1-\\alpha)} \\; cuando \\; N(0,1)) =\\alpha $$\n",
    "\n",
    "En consecuencia:\n",
    "\n",
    "$$P_{\\Delta_{o}}\\left (   \\frac{(\\overline{X}_1-\\overline{X}_2)-\\Delta_o }{\\sqrt{\\frac{S^2_1}{ n_1}  +  \\frac{S^2_2}{ n_2}}}\\geq Z(0,1)   \\right )=\\alpha$$"
   ]
  },
  {
   "cell_type": "markdown",
   "metadata": {},
   "source": [
    "#### 5. Regla de Desición\n"
   ]
  },
  {
   "cell_type": "markdown",
   "metadata": {},
   "source": [
    "<div class=\"alert alert-danger\">\n",
    "\n",
    "Para un $\\alpha$ de significancia se procede a:\n",
    "\n",
    "\\begin{equation}\n",
    "\\vartheta :  \\; \\;Rechazar \\; H_o  \\;\\;\\;\\; sii \\;\\; \\;\\; Z \\geq Z_{(1-\\alpha)}\n",
    "\\end{equation}\n",
    "</div>"
   ]
  },
  {
   "cell_type": "markdown",
   "metadata": {},
   "source": [
    "---\n",
    "\n",
    "Para la **potencia de la prueba** se usa el error tipo II\n",
    "\n",
    "$$\\beta(\\mu')=P(Error\\; tipo \\; II) $$\n",
    "\n",
    "$$\\beta(\\mu')= P(Z < Z_{(1-\\alpha)} \\;\\; cuando \\; \\;\\mu_1 - \\mu_2 =\\Delta^{´})$$\n",
    "\n",
    "\n",
    "$$\\beta(\\mu') = P \\left (   \\overline{X}_1 -\\overline{X}_2  < \\Delta_o + Z_{(1-\\alpha)}(\\sqrt{\\frac{S^2_1}{ n_1}  +  \\frac{S^2_2}{ n_2}}) \\;\\; con \\;\\; \\mu_1 - \\mu_2 =\\Delta^{´}   \\right )$$\n",
    "\n",
    "$$\\beta(\\mu') =  \\left (    \\frac{(\\overline{X}_1-\\overline{X}_2)-\\Delta^{´} }{\\sqrt{\\frac{S^2_1}{ n_1}  +  \\frac{S^2_2}{ n_2}}} <Z_{(1-\\alpha)} + \\frac{\\Delta_o- \\Delta^{´}}{\\sqrt{\\frac{S^2_1}{ n_1}  +  \\frac{S^2_2}{ n_2}} } \\right )$$\n",
    "$$potencia = 1 - \\beta$$"
   ]
  },
  {
   "cell_type": "markdown",
   "metadata": {},
   "source": [
    "----\n",
    "## Ejemplo (Prueba cola izquierda)\n",
    "\n",
    "\n",
    "Considerese el datset **births** del paquete openintro el cual contiene información sobre 150 nacimientos junto con información de las madres (1.fumadores - 2.no fumadoras)--> (smoker - nonsmoker). Pruebese si el peso de los niños nacidos con madres que fuman difiere del peso de los niños cuya madre no fuma."
   ]
  },
  {
   "cell_type": "code",
   "execution_count": 10,
   "metadata": {},
   "outputs": [
    {
     "data": {
      "text/html": [
       "<table>\n",
       "<thead><tr><th scope=col>f_age</th><th scope=col>m_age</th><th scope=col>weeks</th><th scope=col>premature</th><th scope=col>visits</th><th scope=col>gained</th><th scope=col>weight</th><th scope=col>sex_baby</th><th scope=col>smoke</th></tr></thead>\n",
       "<tbody>\n",
       "\t<tr><td>31       </td><td>30       </td><td>39       </td><td>full term</td><td>13       </td><td> 1       </td><td>6.88     </td><td>male     </td><td>smoker   </td></tr>\n",
       "\t<tr><td>34       </td><td>36       </td><td>39       </td><td>full term</td><td> 5       </td><td>35       </td><td>7.69     </td><td>male     </td><td>nonsmoker</td></tr>\n",
       "\t<tr><td>36       </td><td>35       </td><td>40       </td><td>full term</td><td>12       </td><td>29       </td><td>8.88     </td><td>male     </td><td>nonsmoker</td></tr>\n",
       "\t<tr><td>41       </td><td>40       </td><td>40       </td><td>full term</td><td>13       </td><td>30       </td><td>9.00     </td><td>female   </td><td>nonsmoker</td></tr>\n",
       "</tbody>\n",
       "</table>\n"
      ],
      "text/latex": [
       "\\begin{tabular}{r|lllllllll}\n",
       " f\\_age & m\\_age & weeks & premature & visits & gained & weight & sex\\_baby & smoke\\\\\n",
       "\\hline\n",
       "\t 31        & 30        & 39        & full term & 13        &  1        & 6.88      & male      & smoker   \\\\\n",
       "\t 34        & 36        & 39        & full term &  5        & 35        & 7.69      & male      & nonsmoker\\\\\n",
       "\t 36        & 35        & 40        & full term & 12        & 29        & 8.88      & male      & nonsmoker\\\\\n",
       "\t 41        & 40        & 40        & full term & 13        & 30        & 9.00      & female    & nonsmoker\\\\\n",
       "\\end{tabular}\n"
      ],
      "text/markdown": [
       "\n",
       "| f_age | m_age | weeks | premature | visits | gained | weight | sex_baby | smoke |\n",
       "|---|---|---|---|---|---|---|---|---|\n",
       "| 31        | 30        | 39        | full term | 13        |  1        | 6.88      | male      | smoker    |\n",
       "| 34        | 36        | 39        | full term |  5        | 35        | 7.69      | male      | nonsmoker |\n",
       "| 36        | 35        | 40        | full term | 12        | 29        | 8.88      | male      | nonsmoker |\n",
       "| 41        | 40        | 40        | full term | 13        | 30        | 9.00      | female    | nonsmoker |\n",
       "\n"
      ],
      "text/plain": [
       "  f_age m_age weeks premature visits gained weight sex_baby smoke    \n",
       "1 31    30    39    full term 13      1     6.88   male     smoker   \n",
       "2 34    36    39    full term  5     35     7.69   male     nonsmoker\n",
       "3 36    35    40    full term 12     29     8.88   male     nonsmoker\n",
       "4 41    40    40    full term 13     30     9.00   female   nonsmoker"
      ]
     },
     "metadata": {},
     "output_type": "display_data"
    }
   ],
   "source": [
    "library(openintro)\n",
    "library(tidyverse)\n",
    "data(births)\n",
    "head(births, 4)"
   ]
  },
  {
   "cell_type": "code",
   "execution_count": 11,
   "metadata": {},
   "outputs": [],
   "source": [
    "library(dplyr)\n",
    "\n",
    "smoker <- filter(births, smoke == \"smoker\")\n",
    "nonsmoker  <- filter(births, smoke == \"nonsmoker\")\n",
    "\n",
    "#mean(nonsmoker$weight)-mean(smoker$weight)"
   ]
  },
  {
   "cell_type": "markdown",
   "metadata": {},
   "source": [
    "miremos la distribución de las dos poblaciones."
   ]
  },
  {
   "cell_type": "code",
   "execution_count": 12,
   "metadata": {},
   "outputs": [
    {
     "data": {
      "text/plain": [
       "\n",
       "\tShapiro-Wilk normality test\n",
       "\n",
       "data:  smoker$weight\n",
       "W = 0.89491, p-value = 0.0003276\n"
      ]
     },
     "metadata": {},
     "output_type": "display_data"
    },
    {
     "data": {
      "text/plain": [
       "\n",
       "\tShapiro-Wilk normality test\n",
       "\n",
       "data:  nonsmoker$weight\n",
       "W = 0.92374, p-value = 2.234e-05\n"
      ]
     },
     "metadata": {},
     "output_type": "display_data"
    }
   ],
   "source": [
    "shapiro.test(smoker$weight)\n",
    "shapiro.test(nonsmoker$weight)"
   ]
  },
  {
   "cell_type": "markdown",
   "metadata": {},
   "source": [
    "Sin embargo, dado que el tamaño de cada grupo es mayor que 30 se puede considerar que el t-test sigue siendo suficientemente robusto, aunque es necesario mencionarlo en las conclusiones. Un test no paramétrico basado en la mediana (Mann-Withney-Wilcoxon test) o un test de Bootstraping serían más adecuados.\n",
    "\n",
    "\n",
    "#### CONSIDERANDOQUELAS DOS POBLACIONES SON NORMALES (VERIFICAR CON PRUEBAS NO PARAMÉTRICAS)"
   ]
  },
  {
   "cell_type": "markdown",
   "metadata": {},
   "source": [
    "#### 1. Parámetro Poblacional\n",
    "\n",
    "El parámetro poblacional a contrastar es $\\mu_1 < \\mu_2$ "
   ]
  },
  {
   "cell_type": "markdown",
   "metadata": {},
   "source": [
    "\n",
    "#### 2. Hipótesis\n",
    "\n",
    "Considérese las medias poblacionales $\\mu_1$  $\\mu_2$, con $\\Delta_o =0$ \n",
    "\n",
    "\\begin{equation}\n",
    "H_{0}: \\mu_1 - \\mu_2 = \\Delta_o \\hspace{0.9cm} vs \\hspace{0.9cm} H_{1}: \\mu_1 - \\mu_2 < \\Delta_o\n",
    "\\end{equation}\n"
   ]
  },
  {
   "cell_type": "markdown",
   "metadata": {},
   "source": [
    "#### 3. Estadística de prueba"
   ]
  },
  {
   "cell_type": "markdown",
   "metadata": {},
   "source": [
    "\n",
    "Cuando la distribuciones poblacional es Normal, la variable estandarizada\n",
    "\n",
    "\\begin{equation}\n",
    "Z=\\frac{(\\overline{X}_1-\\overline{X}_2)-\\Delta_o }{\\sqrt{\\frac{S^2_1}{ n_1}  +  \\frac{S^2_2}{ n_2}}}\\hspace{0.4cm} \\hspace{0.4cm}  \\hspace{1.2cm} ;  \\hspace{1.2cm} Z\\mid _{H_0} \\sim Z(0,1)\n",
    "\\end{equation}\n",
    "\n",
    "Verificando el resultado:"
   ]
  },
  {
   "cell_type": "code",
   "execution_count": 13,
   "metadata": {},
   "outputs": [],
   "source": [
    "n1 <-length(smoker$weight)\n",
    "n2 <-length(nonsmoker$weight)"
   ]
  },
  {
   "cell_type": "code",
   "execution_count": 14,
   "metadata": {},
   "outputs": [
    {
     "data": {
      "text/html": [
       "-1.44751824697835"
      ],
      "text/latex": [
       "-1.44751824697835"
      ],
      "text/markdown": [
       "-1.44751824697835"
      ],
      "text/plain": [
       "[1] -1.447518"
      ]
     },
     "metadata": {},
     "output_type": "display_data"
    }
   ],
   "source": [
    "Z<-(mean(smoker$weight)-mean(nonsmoker$weight) )  /sqrt(var(smoker$weight)/n1 + var(smoker$weight)/n2 )  ; Z"
   ]
  },
  {
   "cell_type": "markdown",
   "metadata": {},
   "source": [
    "Buscando el cuantil teórico:"
   ]
  },
  {
   "cell_type": "code",
   "execution_count": 15,
   "metadata": {},
   "outputs": [
    {
     "data": {
      "text/html": [
       "-1.2815515655446"
      ],
      "text/latex": [
       "-1.2815515655446"
      ],
      "text/markdown": [
       "-1.2815515655446"
      ],
      "text/plain": [
       "[1] -1.281552"
      ]
     },
     "metadata": {},
     "output_type": "display_data"
    }
   ],
   "source": [
    "########################################################################################################################\n",
    "###########       NORMAL ESTANDAR       qnorm(p, mean = 0, sd = 1, lower.tail = TRUE, log.p = FALSE)   #################\n",
    "########################################################################################################################\n",
    "\n",
    "#conociendo z necesario\n",
    "\n",
    "Z_alpha <- qnorm(0.1, 0 , 1, lower.tail = TRUE) # lower.tail=TRUE ent P[X <= x]  #alpha/2 para prueba dos colas,\n",
    "Z_alpha                        \n"
   ]
  },
  {
   "cell_type": "markdown",
   "metadata": {},
   "source": [
    "$$Z=-1.44$$\n",
    "$$Z_{0.1}=-1.28$$"
   ]
  },
  {
   "cell_type": "markdown",
   "metadata": {},
   "source": [
    "#### c) Desición\n",
    "\n",
    " $ \\vartheta :$ Luego como $Z= -1.44$, se tiene que a un nivel de significancia de $ \\alpha= 0.05 $, $\\;\\;$ $Z= -1.44 < Z_{0.1}=-1.28 $ con lo cual se Rechaza $H_o$ concluyendose que SI existe evidencia estadística para poder afirmar que  el peso promedio de niños nacidos de madres fumadores sea menor que el peso de los niños de madres no fumadoras."
   ]
  },
  {
   "cell_type": "markdown",
   "metadata": {},
   "source": [
    "---\n",
    "#### d) Prueba en R junto con intervalos de confianza"
   ]
  },
  {
   "cell_type": "code",
   "execution_count": 17,
   "metadata": {},
   "outputs": [
    {
     "data": {
      "text/plain": [
       "\n",
       "\tTwo-sample z-Test\n",
       "\n",
       "data:  smoker$weight and nonsmoker$weight\n",
       "z = -1.4967, p-value = 0.06723\n",
       "alternative hypothesis: true difference in means is less than 0\n",
       "95 percent confidence interval:\n",
       "         NA 0.03964095\n",
       "sample estimates:\n",
       "mean of x mean of y \n",
       "   6.7790    7.1795 \n"
      ]
     },
     "metadata": {},
     "output_type": "display_data"
    }
   ],
   "source": [
    "library(BSDA)\n",
    "\n",
    "z.test(x=smoker$weight,\n",
    "       y=nonsmoker$weight,\n",
    "       alternative=\"less\",\n",
    "       mu=0,\n",
    "       sigma.x=sd(smoker$weight),\n",
    "       sigma.y=sd(nonsmoker$weight),\n",
    "       conf.level=0.95)\n",
    "#alternative=\"greater\"   or   \"less\"     or   \"two.sided\"  "
   ]
  },
  {
   "cell_type": "code",
   "execution_count": null,
   "metadata": {},
   "outputs": [],
   "source": [
    "t.test(\n",
    "  x           = smoker$weight,\n",
    "  y           = nonsmoker$weight,\n",
    "  alternative = \"less\",\n",
    "  mu          = 0,\n",
    "  var.equal   = TRUE,\n",
    "  conf.level  = 0.95\n",
    "        )#alternative=\"greater\"   or   \"less\"     or   \"two.sided\"  "
   ]
  }
 ],
 "metadata": {
  "kernelspec": {
   "display_name": "R",
   "language": "R",
   "name": "ir"
  },
  "language_info": {
   "codemirror_mode": "r",
   "file_extension": ".r",
   "mimetype": "text/x-r-source",
   "name": "R",
   "pygments_lexer": "r",
   "version": "3.6.1"
  }
 },
 "nbformat": 4,
 "nbformat_minor": 4
}
