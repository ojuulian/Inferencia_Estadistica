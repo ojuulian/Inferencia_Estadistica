{
 "cells": [
  {
   "cell_type": "markdown",
   "metadata": {},
   "source": [
    "<img src=\"./unal.png\" align=left width=\"150\" height=\"150\"></img>\n",
    "\n",
    "$\\;$\n",
    "---\n",
    "\n",
    "\n",
    "<h2 align=\"center\">PRUEBA DE MEDIA ( Población Normal, $\\sigma^2$ conocida)\n",
    "\n",
    "    \n",
    "### Oscar Julian Layton \n",
    "---\n",
    "    \n",
    "$\\;$"
   ]
  },
  {
   "cell_type": "markdown",
   "metadata": {},
   "source": [
    "\n",
    "\n",
    "Para realizar una prueba de de media considerese el siguiente teorema para  **$\\sigma^2$ conocida**:\n",
    "\n",
    "\n",
    "\n",
    "## El teorema del límite central\n",
    "\n",
    "<div class=\"alert alert-success\">\n",
    "\n",
    "Sea $\\{ X_1, X_2, X_3,...,X_n \\}$ una muestra aleatoria de una distribución **X** con media $\\mu$ y varianza $\\sigma^2$, para un **n** lo suficientemente grande, _$\\overline{X}$_ se distribuye _**aproximadamente**_ normal con media $\\mu$ y varianza $\\frac{\\sigma^2}{n}$, e.o.p: \n",
    "\n",
    "$$\\overline{X} \\underset{n\\rightarrow \\infty }{\\sim} N(\\mu, \\sigma^2 /n) \\;\\;\\;\\;\\;\\; \\;\\;\\;\\;\\;\\; ; \\;\\;\\;\\;\\;\\; \\;\\;\\;\\;\\; \\frac{\\overline{X}- \\mu}{\\sqrt{\\sigma_x^2/n}} \\sim N(0,1)$$\n",
    "\n",
    "Tengase en cuenta que al decir muestra aleatoria se afirma que la sucecion de variables aleatorias son independientes igualmente distribuidas.\n",
    "</div>\n"
   ]
  },
  {
   "cell_type": "markdown",
   "metadata": {},
   "source": [
    "#### 1. Parámetro Poblacional\n",
    "\n",
    "El parámetro poblacional a contrastar es $\\mu$"
   ]
  },
  {
   "cell_type": "markdown",
   "metadata": {},
   "source": [
    "#### 2. Hipótesis\n",
    "\n",
    "Considérese la varianza poblacional $\\sigma^2$\n",
    "\n",
    "\n",
    "\\begin{equation}\n",
    "H_{0}: \\mu = \\mu_o \\hspace{0.9cm} vs \\hspace{0.9cm} H_{1}:  \\mu  \\geq\\mu_o\n",
    "\\end{equation}"
   ]
  },
  {
   "cell_type": "markdown",
   "metadata": {},
   "source": [
    "#### 3. Estadística de prueba\n",
    "\n",
    "Supóngase que $x_1, x_2, ,..., x_n$ es una muestra aleatoria de **X**, entonces por el TCL (Teorema Central del Límite):\n",
    "\n",
    "\\begin{equation}\n",
    "\\frac{\\overline{X}_n- \\mu}{\\sqrt{\\sigma_x^2/n}}\\hspace{0.4cm} \\xrightarrow[n\\rightarrow \\infty ]{D}\\hspace{0.4cm} Z_{c} \\hspace{1.2cm} ;  \\hspace{1.2cm} Z_{c} \\mid _{H_0} \\sim N(0,1)\n",
    "\\end{equation}"
   ]
  },
  {
   "cell_type": "markdown",
   "metadata": {},
   "source": [
    "#### 4. Construcción regla de desición\n",
    "\n",
    "Para un $0<\\alpha<1$ nivel de significancia\n",
    "\n",
    "$$P_{\\mu_{o}}(Error\\; tipo \\; I)=\\alpha$$\n",
    "$$P_{\\mu_{o}}(Rechaz\\;H_o\\;cuando \\;es \\;verdadera)=\\alpha$$\n",
    "$$P_{\\mu_{o}}(Z_c \\geq Z_{(1-\\alpha)} \\; cuando \\; Z_c \\sim N(0,1))=\\alpha$$\n",
    "\n",
    "En consecuencia:\n",
    "\n",
    "$$P_{\\mu_{o}}\\left (   \\frac{\\overline{X}_n- \\mu}{\\sqrt{\\sigma_x^2/n}}\\geq Z_{1-\\alpha} \\right )=\\alpha$$"
   ]
  },
  {
   "cell_type": "markdown",
   "metadata": {},
   "source": [
    "#### 5. Regla de Desición\n"
   ]
  },
  {
   "cell_type": "markdown",
   "metadata": {},
   "source": [
    "<div class=\"alert alert-danger\">\n",
    "\n",
    "Para un $\\alpha$ de significancia se procede a:\n",
    "\n",
    "\\begin{equation}\n",
    "\\vartheta :  \\; \\;Rechazar \\; H_o  \\;\\;\\;\\; sii \\;\\; \\;\\; Z_{c} \\geq Z_{(1-\\alpha)}\n",
    "\\end{equation}\n",
    "</div>"
   ]
  },
  {
   "cell_type": "markdown",
   "metadata": {},
   "source": [
    "---\n",
    "\n",
    "\n",
    "Para la **potencia de la prueba** se usa el error tipo II\n",
    "\n",
    "$$\\beta(\\mu')=P(Error\\; tipo \\; II) $$\n",
    "\n",
    "$$\\beta(\\mu')= P(Z_c < Z_{(1-\\alpha)} \\; cuando \\; \\mu =\\mu^{´})$$\n",
    "\n",
    "\n",
    "$$\\beta(\\mu') = P(\\overline{X}_n < \\mu_o + Z_{(1-\\alpha)}(\\sigma^2/\\sqrt{n}) \\;\\; con \\;\\; \\mu =\\mu^{´})$$\n",
    "\n",
    "$$\\beta(\\mu') =  \\left (   \\frac{\\overline{X}_n- \\mu^{´}}{\\sigma/\\sqrt{n}} < Z_{(1-\\alpha)} + \\frac{\\mu_o- \\mu^{´}}{\\sigma/\\sqrt{n} } \\right )$$\n",
    "$$potencia = 1 - \\beta$$"
   ]
  },
  {
   "cell_type": "markdown",
   "metadata": {},
   "source": [
    "---"
   ]
  },
  {
   "cell_type": "markdown",
   "metadata": {},
   "source": [
    "## Ejemplo\n",
    "\n",
    "Los diámetros de los ejes de acero producidos por un proceso de manufactura deben tener un diámetro medio de 0.255 pulgadas.  Se sabe que la distribución de diámetros en los ejes es normal y además tiene una desviación estándar de $\\sigma$ = 0.0001 pulgadas. Se tomó una muestra aleatoria de 10 ejes la cual tiene un diámetro promedio de 0.2545 pulgadas. Es correcto afirmar que _¿el proceso de manufactura en la empresa genera diametros de de 0.255 pulgadas?._\n",
    "\n",
    "#### a) Hipótesis apropiadas sobre la media.\n",
    "\n",
    "En este caso interesa ver con la información de la muestra seleccionada si el diámetro promedio de los ejes es mayor o es menor a la medida adecuada, ya que, el hecho de que está diferencia sea significativa, permitiría identificar fallas en el proceso de producción y además que los ejes no serían óptimos para el uso. Dado lo anterior, las hipótesis a probar son: \n",
    "\n",
    "\\begin{equation}\n",
    "H_{0}: \\mu = 0.255 \\hspace{0.9cm} vs \\hspace{0.9cm} H_{1}: \\mu \\neq 0.255\n",
    "\\end{equation}"
   ]
  },
  {
   "cell_type": "markdown",
   "metadata": {},
   "source": [
    "#### b) Uso de la estadística de prueba."
   ]
  },
  {
   "cell_type": "markdown",
   "metadata": {},
   "source": [
    "Tenemos entonces los siguientes datos: $n=10$, $\\sigma=0.0001$ y $\\bar{x}=0.2545$, se usa el estadístico de prueba: \n",
    "\n",
    "$$Z=\\frac{\\sqrt[]{n}(\\bar{x}-\\mu_{0})}{\\sigma}; \\hspace{12pt} Z \\sim \\mathcal{N}\\left(0,1\\right) $$\n",
    "\n"
   ]
  },
  {
   "cell_type": "code",
   "execution_count": 46,
   "metadata": {},
   "outputs": [
    {
     "data": {
      "text/html": [
       "-15.8113883008419"
      ],
      "text/latex": [
       "-15.8113883008419"
      ],
      "text/markdown": [
       "-15.8113883008419"
      ],
      "text/plain": [
       "[1] -15.81139"
      ]
     },
     "metadata": {},
     "output_type": "display_data"
    }
   ],
   "source": [
    "mean <- 0.2545\n",
    "sigma <- 0.0001\n",
    "n <- 10\n",
    "mean_0 <- 0.255\n",
    "\n",
    "Z_c <- ((mean - mean_0)*sqrt(n))/sigma  ; Z_c"
   ]
  },
  {
   "cell_type": "markdown",
   "metadata": {},
   "source": [
    "De esta forma, para la información disponible tenemos que: \n",
    "\n",
    "$$Z_{c}=\\frac{\\sqrt[]{n}(\\bar{x}-\\mu_{0})}{\\sigma}=\\frac{\\sqrt[]{10}(0.2545-0.255)}{0.0001}=-15.81$$\n",
    "\n",
    "Luego se tiene:"
   ]
  },
  {
   "cell_type": "code",
   "execution_count": 42,
   "metadata": {},
   "outputs": [
    {
     "data": {
      "text/html": [
       "-1.95996398454005"
      ],
      "text/latex": [
       "-1.95996398454005"
      ],
      "text/markdown": [
       "-1.95996398454005"
      ],
      "text/plain": [
       "[1] -1.959964"
      ]
     },
     "metadata": {},
     "output_type": "display_data"
    }
   ],
   "source": [
    "########################################################################################################################\n",
    "###########       NORMAL ESTANDAR       qnorm(p, mean = 0, sd = 1, lower.tail = TRUE, log.p = FALSE)   #################\n",
    "########################################################################################################################\n",
    "\n",
    "#conociendo z necesario\n",
    "Z_alpha <- qnorm(0.025, 0 , 1, lower.tail = TRUE) # lower.tail=TRUE ent P[X <= x]\n",
    "Z_alpha"
   ]
  },
  {
   "cell_type": "markdown",
   "metadata": {},
   "source": [
    "\n",
    "Cómo $Z_{c} < Z_{0.025}=-1.96$, entonces la decisión que tomamos es rechazar la hipótesis nula, es decir, **la media de los diámetros de los ejes es diferente a la adecuada, por lo que se debe revisar el proceso de manufactura.**"
   ]
  },
  {
   "cell_type": "markdown",
   "metadata": {},
   "source": [
    "#### c) Cálculo del p-valor"
   ]
  },
  {
   "cell_type": "markdown",
   "metadata": {},
   "source": [
    "$$p_{valor}=2P(Z_{c}<-15.81) \\approx 0$$\n",
    "\n",
    "Este p-valor es muy pequeño, de manera que apoya la decisión de rechazar $H_{0}$"
   ]
  },
  {
   "cell_type": "code",
   "execution_count": 43,
   "metadata": {},
   "outputs": [
    {
     "data": {
      "text/html": [
       "1.32733419590494e-56"
      ],
      "text/latex": [
       "1.32733419590494e-56"
      ],
      "text/markdown": [
       "1.32733419590494e-56"
      ],
      "text/plain": [
       "[1] 1.327334e-56"
      ]
     },
     "metadata": {},
     "output_type": "display_data"
    }
   ],
   "source": [
    "########################################################################################################################\n",
    "###########       NORMAL ESTANDAR      pnorm(quantil, mean = 0, sd = 1, lower.tail = TRUE, log.p = FALSE)   ###########\n",
    "########################################################################################################################\n",
    "\n",
    "#Supongase que X~N(0,1)\n",
    "Prob_Zc <- pnorm(-15.81, 0 , 1, lower.tail = TRUE)  # si lower.tail=TRUE ent P[X <= x]  y  lower.tail=FALSE ent P[X >= x]\n",
    "Prob_Zc "
   ]
  },
  {
   "cell_type": "code",
   "execution_count": 45,
   "metadata": {},
   "outputs": [
    {
     "data": {
      "text/html": [
       "2.65466839180988e-56"
      ],
      "text/latex": [
       "2.65466839180988e-56"
      ],
      "text/markdown": [
       "2.65466839180988e-56"
      ],
      "text/plain": [
       "[1] 2.654668e-56"
      ]
     },
     "metadata": {},
     "output_type": "display_data"
    }
   ],
   "source": [
    "p_valor <- 2*pnorm(-15.81, 0 , 1, lower.tail = TRUE); p_valor"
   ]
  },
  {
   "cell_type": "markdown",
   "metadata": {},
   "source": [
    "Como el p_valor es muy pequeño se especifica que con un nivel de significancia del 0.05% **la media de los diámetros de los ejes es diferente a la adecuada, por lo que se debe revisar el proceso de manufactura.**"
   ]
  },
  {
   "cell_type": "markdown",
   "metadata": {},
   "source": [
    "#### d) Intervalo de confianza"
   ]
  },
  {
   "cell_type": "markdown",
   "metadata": {},
   "source": [
    " Construya un intervalo de confianza para la media del diámetro de los ejes con el 95\\% de confianza.\n",
    "\n",
    "Construyendo un intervalo aleatorio que contenga el 95\\% de la probabilidad de contener a $\\mu$ se tiene la siguiente probabilidad: \n",
    "\n",
    "$$ P\\left(-Z_{0.025}\\leq \\frac{\\sqrt[]{n}(\\bar{X}-\\mu)}{\\sigma} \\leq Z_{0.025} \\right)=1-\\alpha$$\n",
    "\n",
    "De la anterior probabilidad, se obtiene el intervalo: \n",
    "\n",
    "$$ \\bar{X}-Z_{0.025} \\frac{\\sigma}{\\sqrt[]{n}} \\leq \\mu \\leq \\bar{X}+Z_{0.025} \\frac{\\sigma}{\\sqrt[]{n}}$$\n",
    "\n",
    "Y usando la información obtenida en la muestra, se obtiene finalmente el siguiente intervalo:\n",
    "\n",
    "$$ 0.2545 - (1.96)\\frac{0.0001}{\\sqrt[]{10}} \\leq \\mu \\leq 0.2545 + (1.96)\\frac{0.0001}{\\sqrt[]{10}}$$\n",
    "$$ 0.25444 \\leq \\mu \\leq 0.25456$$\n"
   ]
  },
  {
   "cell_type": "code",
   "execution_count": 48,
   "metadata": {},
   "outputs": [
    {
     "data": {
      "text/html": [
       "0.25450198296243"
      ],
      "text/latex": [
       "0.25450198296243"
      ],
      "text/markdown": [
       "0.25450198296243"
      ],
      "text/plain": [
       "[1] 0.254502"
      ]
     },
     "metadata": {},
     "output_type": "display_data"
    },
    {
     "data": {
      "text/html": [
       "0.25449801703757"
      ],
      "text/latex": [
       "0.25449801703757"
      ],
      "text/markdown": [
       "0.25449801703757"
      ],
      "text/plain": [
       "[1] 0.254498"
      ]
     },
     "metadata": {},
     "output_type": "display_data"
    }
   ],
   "source": [
    "# Para iun intervalo de confianza del 95%\n",
    "\n",
    "prob<-0.95/2\n",
    "Z_alpha2 <- qnorm(prob, 0 , 1, lower.tail = TRUE, log.p = FALSE) # lower.tail=TRUE ent P[X <= x]\n",
    "\n",
    "LI <- mean - Z_alpha2*(sigma/sqrt(n))      ;LI\n",
    "LS <- mean + Z_alpha2*(sigma/sqrt(n))      ;LS"
   ]
  },
  {
   "cell_type": "code",
   "execution_count": null,
   "metadata": {},
   "outputs": [],
   "source": []
  }
 ],
 "metadata": {
  "kernelspec": {
   "display_name": "R",
   "language": "R",
   "name": "ir"
  },
  "language_info": {
   "codemirror_mode": "r",
   "file_extension": ".r",
   "mimetype": "text/x-r-source",
   "name": "R",
   "pygments_lexer": "r",
   "version": "3.6.1"
  }
 },
 "nbformat": 4,
 "nbformat_minor": 4
}
