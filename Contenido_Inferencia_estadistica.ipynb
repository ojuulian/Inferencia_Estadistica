{
 "cells": [
  {
   "cell_type": "markdown",
   "metadata": {},
   "source": [
    "<h1 align=\"center\">Inferencia Estadística</h1>\n",
    "<h1 align=\"center\"></h1>\n",
    "\n",
    "Para dar un abordaje a inferencia Estadística, se propone el siguiente contenido el cual contrasta la teoría y la práctica por medio de scrips en *jupyter notebook* \n",
    "\n",
    "\n",
    "\n",
    "<h3>Autor</h3>\n",
    "\n",
    "1. Oscar Julian Layton Galindo, ojlaytong@unal.edu.co\n",
    "\n",
    "\n",
    "\n",
    "<h3>Lenguaje de Programación </h3>\n",
    "\n",
    "R"
   ]
  },
  {
   "cell_type": "markdown",
   "metadata": {},
   "source": [
    "<h1 align='center'> Contenido</h1>\n",
    "\n",
    "\n",
    "---\n",
    "<h3> Distribuciones muestrales </h3>\n",
    "\n",
    "0. [Distribuciones muestrales](./scripts_R/0_distribuciones_muestrales.ipynb)\n",
    "\n",
    "---\n",
    "\n",
    "<h1> Pruebas para conocer si las varianzas poblacionales son iguales </h1>\n",
    "<h4> 1.1 Prueba de varianzas poblacionales --> $\\sigma^2$ (una población) </h4>\n",
    "\n",
    "1. [Prueba para $\\sigma$.](./scripts_R/33_prueba_hipotesis_varianzas_una_poblacion.ipynb)\n",
    "\n",
    "\n",
    "<h4> 1.2 Prueba de varianzas poblacionales --> $\\sigma^2_1$   $\\sigma^2_2$ (dos poblaciones) </h4>\n",
    "\n",
    "1. [Prueba para $\\sigma^2_1 = \\sigma^2_2$.](./scripts_R/44_prueba_hipotesis_varianza_dos_poblaciones.ipynb)\n",
    "\n",
    "---\n",
    "\n",
    "<h1> Una población </h1>\n",
    "<h4> 2.1 Prueba para media --> $\\mu$  </h4>\n",
    "\n",
    "1. [Caso 1: Prueba **z** para $\\mu$ de una población distribuida normal con $\\sigma$ conocida.](./scripts_R/1_prueba_hipotesis_media.ipynb)\n",
    "1. [Caso 2: Prueba **z** para $\\mu$ muestras grandes.](./scripts_R/2_prueba_hipotesis_media_aproximada.ipynb)\n",
    "1. [Caso 3: Prueba **t** para $\\mu$ de una población con distribución normal.](./scripts_R/3_prueba_hipotesis_media_muestra_pequena.ipynb)\n",
    "\n",
    "\n",
    "\n",
    "\n",
    "\n",
    "\n",
    "\n",
    "<h1> Dos poblaciones (independientes) </h1>\n",
    "<h4> 2.2 Prueba para medias --->  $\\mu_1$, $\\mu_2$ </h4>\n",
    "\n",
    "4. [Prueba **z** para $\\mu_1$ y $\\mu_2$ poblaciones Normales con $\\sigma^2_1$y $\\sigma^2_2$ conocidas.](./scripts_R/4_prueba_hipotesis_medias_pob_normal_var_conocida.ipynb)\n",
    "5. [Prueba **z** para $\\mu_1$ y $\\mu_2$ muestras grandes.](./scripts_R/5_prueba_hipotesis_medias_muestra_grande.ipynb)\n",
    "6. [Prueba **t** para $\\mu_1$ y $\\mu_2$ poblaciones Normales](./scripts_R/6_prueba_hipotesis_medias_pob_normal.ipynb)\n",
    "7. [Prueba **t** para $\\mu_1$ y $\\mu_2$ poblaciones Normales  y $\\sigma^2_1=\\sigma^2_2$](./scripts_R/7_prueba_hipotesis_medias_var_igual.ipynb)\n",
    "\n",
    "\n"
   ]
  },
  {
   "cell_type": "markdown",
   "metadata": {},
   "source": [
    "<h2>Referencias</h2>\n",
    "\n",
    "\n",
    "*  Hogg, R. V., McKean, J. W., & Craig, A. T. (2019). Introduction to Mathematical Statistics 8th ed. Pearson.\n",
    "*  Melo, O., López, L y Melo, S (2018). _\"Diseño de Experimentos-Métodos y Aplicaciones\"_. Universidad Nacional de Colombia.\n",
    "*  Montgomery, D. (2012). _\"Desing and Analisys of Experiments\"_ John Wiley & Sons. Eight Edition. New York.\n"
   ]
  },
  {
   "cell_type": "code",
   "execution_count": null,
   "metadata": {},
   "outputs": [],
   "source": []
  }
 ],
 "metadata": {
  "kernelspec": {
   "display_name": "Python 3",
   "language": "python",
   "name": "python3"
  },
  "language_info": {
   "codemirror_mode": {
    "name": "ipython",
    "version": 3
   },
   "file_extension": ".py",
   "mimetype": "text/x-python",
   "name": "python",
   "nbconvert_exporter": "python",
   "pygments_lexer": "ipython3",
   "version": "3.7.9"
  }
 },
 "nbformat": 4,
 "nbformat_minor": 4
}
